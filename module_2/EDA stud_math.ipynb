{
 "cells": [
  {
   "cell_type": "code",
   "execution_count": 276,
   "metadata": {},
   "outputs": [],
   "source": [
    "import pandas as pd\n",
    "import numpy as np\n",
    "import matplotlib.pyplot as plt\n",
    "import seaborn as sns\n",
    "from itertools import combinations\n",
    "from scipy.stats import ttest_ind\n",
    "import warnings; warnings.simplefilter('ignore')\n",
    "# %config InlineBackend.figure_format = 'svg' \n",
    "sns.set()\n",
    "\n",
    "pd.set_option('display.max_rows', 50)\n",
    "pd.set_option('display.max_columns', 50)\n",
    "\n",
    "stud_math = pd.read_csv('stud_math.xls')"
   ]
  },
  {
   "cell_type": "markdown",
   "metadata": {},
   "source": [
    "## Предоброботка"
   ]
  },
  {
   "cell_type": "code",
   "execution_count": 277,
   "metadata": {},
   "outputs": [],
   "source": [
    "binary = {0: 'no', 1: 'yes'}\n",
    "\n",
    "\n",
    "def outliers(data):\n",
    "    '''Функция квартилей, IQR и границы выбросов'''\n",
    "    median = data.median()\n",
    "    perc25 = data.quantile(0.25)\n",
    "    perc75 = data.quantile(0.75)\n",
    "    IQR = perc75 - perc25\n",
    "    print('25-й перцентиль: {},'.format(perc25),\n",
    "          '75-й перцентиль: {},'.format(perc75),\n",
    "          \"IQR: {}, \".format(IQR),\n",
    "          \"Границы выбросов: [{f}, {l}].\".format(f=perc25 - 1.5*IQR, l=perc75 + 1.5*IQR))\n",
    "\n",
    "\n",
    "def nominal_col(data):\n",
    "    '''Принемает качественный признак и выводит\n",
    "    количество в уникальных значениях'''\n",
    "    print(data.value_counts(dropna=False))\n",
    "\n",
    "\n",
    "def ordered_col(data, bins=10):\n",
    "    '''Принемает количественный признак и выводит\n",
    "    гистограмму, пропущенные значения и статистики'''\n",
    "    data.hist(bins=bins)\n",
    "    display(data.describe())\n",
    "    print('Пропущенных значений: ', data.isnull().sum())\n",
    "\n",
    "\n",
    "def fillna_moda(data):\n",
    "    '''Замена пропусков на моду'''\n",
    "    data.value_counts().index[0]\n",
    "    data.fillna(data.value_counts().index[0], inplace=True)\n",
    "    print(data.value_counts(dropna=False))\n",
    "\n",
    "\n",
    "def fillna_random(data, n, m):\n",
    "    '''Замена пропусков случайными числами от n до m'''\n",
    "    return data.apply(lambda x: np.random.randint(n, m) if pd.isnull(x) else x)\n",
    "\n",
    "\n",
    "def fillna_yes_no(data):\n",
    "    '''Замена 0 на no и 1 на yes'''\n",
    "    return data.apply(lambda x: 'yes' if x == 1 else 'no' if x == 0 else x)\n",
    "\n",
    "\n",
    "def get_boxplot(column):\n",
    "    '''Boxplot распределение score от значения переменной'''\n",
    "    fig, ax = plt.subplots(figsize=(14, 4))\n",
    "    sns.boxplot(x=column, y='score',\n",
    "                data=stud_math,\n",
    "                ax=ax)\n",
    "    plt.xticks(rotation=45)\n",
    "    ax.set_title('Boxplot for ' + column)\n",
    "    plt.show()\n",
    "\n",
    "\n",
    "def get_stat_dif(column):\n",
    "    '''Проверка раздницы распределении оценок по номинативным признакам,\n",
    "     с помощью теста Стьюдента'''\n",
    "    values = stud_math[column].unique()\n",
    "    combinations_all = list(combinations(values, 2))\n",
    "    for comb in combinations_all:\n",
    "        if ttest_ind(stud_math.loc[stud_math[column] == comb[0], 'score'],\n",
    "                     stud_math.loc[stud_math[column] == comb[1], 'score']).pvalue \\\n",
    "                <= 0.05/len(combinations_all):  # Учли поправку Бонферони\n",
    "            print('Найдены статистически значимые различия для колонки', column)\n",
    "            break"
   ]
  },
  {
   "cell_type": "markdown",
   "metadata": {},
   "source": [
    "## Обзор данных"
   ]
  },
  {
   "cell_type": "code",
   "execution_count": 278,
   "metadata": {},
   "outputs": [
    {
     "data": {
      "text/html": [
       "<div>\n",
       "<style scoped>\n",
       "    .dataframe tbody tr th:only-of-type {\n",
       "        vertical-align: middle;\n",
       "    }\n",
       "\n",
       "    .dataframe tbody tr th {\n",
       "        vertical-align: top;\n",
       "    }\n",
       "\n",
       "    .dataframe thead th {\n",
       "        text-align: right;\n",
       "    }\n",
       "</style>\n",
       "<table border=\"1\" class=\"dataframe\">\n",
       "  <thead>\n",
       "    <tr style=\"text-align: right;\">\n",
       "      <th></th>\n",
       "      <th>school</th>\n",
       "      <th>sex</th>\n",
       "      <th>age</th>\n",
       "      <th>address</th>\n",
       "      <th>famsize</th>\n",
       "      <th>Pstatus</th>\n",
       "      <th>Medu</th>\n",
       "      <th>Fedu</th>\n",
       "      <th>Mjob</th>\n",
       "      <th>Fjob</th>\n",
       "      <th>reason</th>\n",
       "      <th>guardian</th>\n",
       "      <th>traveltime</th>\n",
       "      <th>studytime</th>\n",
       "      <th>failures</th>\n",
       "      <th>schoolsup</th>\n",
       "      <th>famsup</th>\n",
       "      <th>paid</th>\n",
       "      <th>activities</th>\n",
       "      <th>nursery</th>\n",
       "      <th>studytime, granular</th>\n",
       "      <th>higher</th>\n",
       "      <th>internet</th>\n",
       "      <th>romantic</th>\n",
       "      <th>famrel</th>\n",
       "      <th>freetime</th>\n",
       "      <th>goout</th>\n",
       "      <th>health</th>\n",
       "      <th>absences</th>\n",
       "      <th>score</th>\n",
       "    </tr>\n",
       "  </thead>\n",
       "  <tbody>\n",
       "    <tr>\n",
       "      <th>0</th>\n",
       "      <td>GP</td>\n",
       "      <td>F</td>\n",
       "      <td>18</td>\n",
       "      <td>U</td>\n",
       "      <td>NaN</td>\n",
       "      <td>A</td>\n",
       "      <td>4.0</td>\n",
       "      <td>4.0</td>\n",
       "      <td>at_home</td>\n",
       "      <td>teacher</td>\n",
       "      <td>course</td>\n",
       "      <td>mother</td>\n",
       "      <td>2.0</td>\n",
       "      <td>2.0</td>\n",
       "      <td>0.0</td>\n",
       "      <td>yes</td>\n",
       "      <td>no</td>\n",
       "      <td>no</td>\n",
       "      <td>no</td>\n",
       "      <td>yes</td>\n",
       "      <td>-6.0</td>\n",
       "      <td>yes</td>\n",
       "      <td>NaN</td>\n",
       "      <td>no</td>\n",
       "      <td>4.0</td>\n",
       "      <td>3.0</td>\n",
       "      <td>4.0</td>\n",
       "      <td>3.0</td>\n",
       "      <td>6.0</td>\n",
       "      <td>30.0</td>\n",
       "    </tr>\n",
       "    <tr>\n",
       "      <th>1</th>\n",
       "      <td>GP</td>\n",
       "      <td>F</td>\n",
       "      <td>17</td>\n",
       "      <td>U</td>\n",
       "      <td>GT3</td>\n",
       "      <td>NaN</td>\n",
       "      <td>1.0</td>\n",
       "      <td>1.0</td>\n",
       "      <td>at_home</td>\n",
       "      <td>other</td>\n",
       "      <td>course</td>\n",
       "      <td>father</td>\n",
       "      <td>1.0</td>\n",
       "      <td>2.0</td>\n",
       "      <td>0.0</td>\n",
       "      <td>no</td>\n",
       "      <td>yes</td>\n",
       "      <td>no</td>\n",
       "      <td>no</td>\n",
       "      <td>no</td>\n",
       "      <td>-6.0</td>\n",
       "      <td>yes</td>\n",
       "      <td>yes</td>\n",
       "      <td>no</td>\n",
       "      <td>5.0</td>\n",
       "      <td>3.0</td>\n",
       "      <td>3.0</td>\n",
       "      <td>3.0</td>\n",
       "      <td>4.0</td>\n",
       "      <td>30.0</td>\n",
       "    </tr>\n",
       "    <tr>\n",
       "      <th>2</th>\n",
       "      <td>GP</td>\n",
       "      <td>F</td>\n",
       "      <td>15</td>\n",
       "      <td>U</td>\n",
       "      <td>LE3</td>\n",
       "      <td>T</td>\n",
       "      <td>1.0</td>\n",
       "      <td>1.0</td>\n",
       "      <td>at_home</td>\n",
       "      <td>other</td>\n",
       "      <td>other</td>\n",
       "      <td>mother</td>\n",
       "      <td>1.0</td>\n",
       "      <td>2.0</td>\n",
       "      <td>3.0</td>\n",
       "      <td>yes</td>\n",
       "      <td>no</td>\n",
       "      <td>NaN</td>\n",
       "      <td>no</td>\n",
       "      <td>yes</td>\n",
       "      <td>-6.0</td>\n",
       "      <td>yes</td>\n",
       "      <td>yes</td>\n",
       "      <td>NaN</td>\n",
       "      <td>4.0</td>\n",
       "      <td>3.0</td>\n",
       "      <td>2.0</td>\n",
       "      <td>3.0</td>\n",
       "      <td>10.0</td>\n",
       "      <td>50.0</td>\n",
       "    </tr>\n",
       "    <tr>\n",
       "      <th>3</th>\n",
       "      <td>GP</td>\n",
       "      <td>F</td>\n",
       "      <td>15</td>\n",
       "      <td>U</td>\n",
       "      <td>GT3</td>\n",
       "      <td>T</td>\n",
       "      <td>4.0</td>\n",
       "      <td>2.0</td>\n",
       "      <td>health</td>\n",
       "      <td>NaN</td>\n",
       "      <td>home</td>\n",
       "      <td>mother</td>\n",
       "      <td>1.0</td>\n",
       "      <td>3.0</td>\n",
       "      <td>0.0</td>\n",
       "      <td>no</td>\n",
       "      <td>yes</td>\n",
       "      <td>yes</td>\n",
       "      <td>yes</td>\n",
       "      <td>yes</td>\n",
       "      <td>-9.0</td>\n",
       "      <td>yes</td>\n",
       "      <td>yes</td>\n",
       "      <td>yes</td>\n",
       "      <td>3.0</td>\n",
       "      <td>2.0</td>\n",
       "      <td>2.0</td>\n",
       "      <td>5.0</td>\n",
       "      <td>2.0</td>\n",
       "      <td>75.0</td>\n",
       "    </tr>\n",
       "    <tr>\n",
       "      <th>4</th>\n",
       "      <td>GP</td>\n",
       "      <td>F</td>\n",
       "      <td>16</td>\n",
       "      <td>U</td>\n",
       "      <td>GT3</td>\n",
       "      <td>T</td>\n",
       "      <td>3.0</td>\n",
       "      <td>3.0</td>\n",
       "      <td>other</td>\n",
       "      <td>other</td>\n",
       "      <td>home</td>\n",
       "      <td>father</td>\n",
       "      <td>1.0</td>\n",
       "      <td>2.0</td>\n",
       "      <td>0.0</td>\n",
       "      <td>no</td>\n",
       "      <td>yes</td>\n",
       "      <td>yes</td>\n",
       "      <td>no</td>\n",
       "      <td>yes</td>\n",
       "      <td>-6.0</td>\n",
       "      <td>yes</td>\n",
       "      <td>no</td>\n",
       "      <td>no</td>\n",
       "      <td>4.0</td>\n",
       "      <td>3.0</td>\n",
       "      <td>2.0</td>\n",
       "      <td>5.0</td>\n",
       "      <td>4.0</td>\n",
       "      <td>50.0</td>\n",
       "    </tr>\n",
       "    <tr>\n",
       "      <th>5</th>\n",
       "      <td>GP</td>\n",
       "      <td>M</td>\n",
       "      <td>16</td>\n",
       "      <td>U</td>\n",
       "      <td>LE3</td>\n",
       "      <td>T</td>\n",
       "      <td>4.0</td>\n",
       "      <td>3.0</td>\n",
       "      <td>services</td>\n",
       "      <td>other</td>\n",
       "      <td>reputation</td>\n",
       "      <td>mother</td>\n",
       "      <td>1.0</td>\n",
       "      <td>2.0</td>\n",
       "      <td>0.0</td>\n",
       "      <td>no</td>\n",
       "      <td>yes</td>\n",
       "      <td>yes</td>\n",
       "      <td>yes</td>\n",
       "      <td>yes</td>\n",
       "      <td>-6.0</td>\n",
       "      <td>yes</td>\n",
       "      <td>yes</td>\n",
       "      <td>no</td>\n",
       "      <td>5.0</td>\n",
       "      <td>4.0</td>\n",
       "      <td>2.0</td>\n",
       "      <td>5.0</td>\n",
       "      <td>10.0</td>\n",
       "      <td>75.0</td>\n",
       "    </tr>\n",
       "    <tr>\n",
       "      <th>6</th>\n",
       "      <td>GP</td>\n",
       "      <td>M</td>\n",
       "      <td>16</td>\n",
       "      <td>NaN</td>\n",
       "      <td>LE3</td>\n",
       "      <td>T</td>\n",
       "      <td>2.0</td>\n",
       "      <td>2.0</td>\n",
       "      <td>other</td>\n",
       "      <td>other</td>\n",
       "      <td>home</td>\n",
       "      <td>mother</td>\n",
       "      <td>1.0</td>\n",
       "      <td>2.0</td>\n",
       "      <td>0.0</td>\n",
       "      <td>no</td>\n",
       "      <td>no</td>\n",
       "      <td>no</td>\n",
       "      <td>no</td>\n",
       "      <td>yes</td>\n",
       "      <td>-6.0</td>\n",
       "      <td>yes</td>\n",
       "      <td>yes</td>\n",
       "      <td>no</td>\n",
       "      <td>4.0</td>\n",
       "      <td>4.0</td>\n",
       "      <td>4.0</td>\n",
       "      <td>3.0</td>\n",
       "      <td>0.0</td>\n",
       "      <td>55.0</td>\n",
       "    </tr>\n",
       "    <tr>\n",
       "      <th>7</th>\n",
       "      <td>GP</td>\n",
       "      <td>F</td>\n",
       "      <td>17</td>\n",
       "      <td>U</td>\n",
       "      <td>GT3</td>\n",
       "      <td>A</td>\n",
       "      <td>4.0</td>\n",
       "      <td>4.0</td>\n",
       "      <td>other</td>\n",
       "      <td>teacher</td>\n",
       "      <td>home</td>\n",
       "      <td>mother</td>\n",
       "      <td>2.0</td>\n",
       "      <td>2.0</td>\n",
       "      <td>0.0</td>\n",
       "      <td>yes</td>\n",
       "      <td>yes</td>\n",
       "      <td>no</td>\n",
       "      <td>no</td>\n",
       "      <td>yes</td>\n",
       "      <td>-6.0</td>\n",
       "      <td>yes</td>\n",
       "      <td>no</td>\n",
       "      <td>no</td>\n",
       "      <td>4.0</td>\n",
       "      <td>1.0</td>\n",
       "      <td>4.0</td>\n",
       "      <td>1.0</td>\n",
       "      <td>6.0</td>\n",
       "      <td>30.0</td>\n",
       "    </tr>\n",
       "    <tr>\n",
       "      <th>8</th>\n",
       "      <td>GP</td>\n",
       "      <td>M</td>\n",
       "      <td>15</td>\n",
       "      <td>U</td>\n",
       "      <td>LE3</td>\n",
       "      <td>A</td>\n",
       "      <td>3.0</td>\n",
       "      <td>2.0</td>\n",
       "      <td>services</td>\n",
       "      <td>other</td>\n",
       "      <td>home</td>\n",
       "      <td>mother</td>\n",
       "      <td>1.0</td>\n",
       "      <td>2.0</td>\n",
       "      <td>0.0</td>\n",
       "      <td>no</td>\n",
       "      <td>yes</td>\n",
       "      <td>yes</td>\n",
       "      <td>no</td>\n",
       "      <td>yes</td>\n",
       "      <td>-6.0</td>\n",
       "      <td>yes</td>\n",
       "      <td>yes</td>\n",
       "      <td>no</td>\n",
       "      <td>NaN</td>\n",
       "      <td>2.0</td>\n",
       "      <td>2.0</td>\n",
       "      <td>1.0</td>\n",
       "      <td>0.0</td>\n",
       "      <td>95.0</td>\n",
       "    </tr>\n",
       "    <tr>\n",
       "      <th>9</th>\n",
       "      <td>GP</td>\n",
       "      <td>M</td>\n",
       "      <td>15</td>\n",
       "      <td>U</td>\n",
       "      <td>NaN</td>\n",
       "      <td>NaN</td>\n",
       "      <td>3.0</td>\n",
       "      <td>4.0</td>\n",
       "      <td>other</td>\n",
       "      <td>other</td>\n",
       "      <td>home</td>\n",
       "      <td>mother</td>\n",
       "      <td>1.0</td>\n",
       "      <td>2.0</td>\n",
       "      <td>0.0</td>\n",
       "      <td>no</td>\n",
       "      <td>yes</td>\n",
       "      <td>yes</td>\n",
       "      <td>yes</td>\n",
       "      <td>yes</td>\n",
       "      <td>-6.0</td>\n",
       "      <td>yes</td>\n",
       "      <td>yes</td>\n",
       "      <td>no</td>\n",
       "      <td>5.0</td>\n",
       "      <td>5.0</td>\n",
       "      <td>1.0</td>\n",
       "      <td>5.0</td>\n",
       "      <td>0.0</td>\n",
       "      <td>75.0</td>\n",
       "    </tr>\n",
       "  </tbody>\n",
       "</table>\n",
       "</div>"
      ],
      "text/plain": [
       "  school sex  age address famsize Pstatus  Medu  Fedu      Mjob     Fjob  \\\n",
       "0     GP   F   18       U     NaN       A   4.0   4.0   at_home  teacher   \n",
       "1     GP   F   17       U     GT3     NaN   1.0   1.0   at_home    other   \n",
       "2     GP   F   15       U     LE3       T   1.0   1.0   at_home    other   \n",
       "3     GP   F   15       U     GT3       T   4.0   2.0    health      NaN   \n",
       "4     GP   F   16       U     GT3       T   3.0   3.0     other    other   \n",
       "5     GP   M   16       U     LE3       T   4.0   3.0  services    other   \n",
       "6     GP   M   16     NaN     LE3       T   2.0   2.0     other    other   \n",
       "7     GP   F   17       U     GT3       A   4.0   4.0     other  teacher   \n",
       "8     GP   M   15       U     LE3       A   3.0   2.0  services    other   \n",
       "9     GP   M   15       U     NaN     NaN   3.0   4.0     other    other   \n",
       "\n",
       "       reason guardian  traveltime  studytime  failures schoolsup famsup paid  \\\n",
       "0      course   mother         2.0        2.0       0.0       yes     no   no   \n",
       "1      course   father         1.0        2.0       0.0        no    yes   no   \n",
       "2       other   mother         1.0        2.0       3.0       yes     no  NaN   \n",
       "3        home   mother         1.0        3.0       0.0        no    yes  yes   \n",
       "4        home   father         1.0        2.0       0.0        no    yes  yes   \n",
       "5  reputation   mother         1.0        2.0       0.0        no    yes  yes   \n",
       "6        home   mother         1.0        2.0       0.0        no     no   no   \n",
       "7        home   mother         2.0        2.0       0.0       yes    yes   no   \n",
       "8        home   mother         1.0        2.0       0.0        no    yes  yes   \n",
       "9        home   mother         1.0        2.0       0.0        no    yes  yes   \n",
       "\n",
       "  activities nursery  studytime, granular higher internet romantic  famrel  \\\n",
       "0         no     yes                 -6.0    yes      NaN       no     4.0   \n",
       "1         no      no                 -6.0    yes      yes       no     5.0   \n",
       "2         no     yes                 -6.0    yes      yes      NaN     4.0   \n",
       "3        yes     yes                 -9.0    yes      yes      yes     3.0   \n",
       "4         no     yes                 -6.0    yes       no       no     4.0   \n",
       "5        yes     yes                 -6.0    yes      yes       no     5.0   \n",
       "6         no     yes                 -6.0    yes      yes       no     4.0   \n",
       "7         no     yes                 -6.0    yes       no       no     4.0   \n",
       "8         no     yes                 -6.0    yes      yes       no     NaN   \n",
       "9        yes     yes                 -6.0    yes      yes       no     5.0   \n",
       "\n",
       "   freetime  goout  health  absences  score  \n",
       "0       3.0    4.0     3.0       6.0   30.0  \n",
       "1       3.0    3.0     3.0       4.0   30.0  \n",
       "2       3.0    2.0     3.0      10.0   50.0  \n",
       "3       2.0    2.0     5.0       2.0   75.0  \n",
       "4       3.0    2.0     5.0       4.0   50.0  \n",
       "5       4.0    2.0     5.0      10.0   75.0  \n",
       "6       4.0    4.0     3.0       0.0   55.0  \n",
       "7       1.0    4.0     1.0       6.0   30.0  \n",
       "8       2.0    2.0     1.0       0.0   95.0  \n",
       "9       5.0    1.0     5.0       0.0   75.0  "
      ]
     },
     "execution_count": 278,
     "metadata": {},
     "output_type": "execute_result"
    }
   ],
   "source": [
    "stud_math.head(10)"
   ]
  },
  {
   "cell_type": "markdown",
   "metadata": {},
   "source": [
    "Переименнуем колонки. Сделаем их в нижнем регистре."
   ]
  },
  {
   "cell_type": "code",
   "execution_count": 279,
   "metadata": {},
   "outputs": [],
   "source": [
    "stud_math.columns = stud_math.columns.str.lower()"
   ]
  },
  {
   "cell_type": "code",
   "execution_count": 280,
   "metadata": {
    "scrolled": false
   },
   "outputs": [
    {
     "name": "stdout",
     "output_type": "stream",
     "text": [
      "<class 'pandas.core.frame.DataFrame'>\n",
      "RangeIndex: 395 entries, 0 to 394\n",
      "Data columns (total 30 columns):\n",
      " #   Column               Non-Null Count  Dtype  \n",
      "---  ------               --------------  -----  \n",
      " 0   school               395 non-null    object \n",
      " 1   sex                  395 non-null    object \n",
      " 2   age                  395 non-null    int64  \n",
      " 3   address              378 non-null    object \n",
      " 4   famsize              368 non-null    object \n",
      " 5   pstatus              350 non-null    object \n",
      " 6   medu                 392 non-null    float64\n",
      " 7   fedu                 371 non-null    float64\n",
      " 8   mjob                 376 non-null    object \n",
      " 9   fjob                 359 non-null    object \n",
      " 10  reason               378 non-null    object \n",
      " 11  guardian             364 non-null    object \n",
      " 12  traveltime           367 non-null    float64\n",
      " 13  studytime            388 non-null    float64\n",
      " 14  failures             373 non-null    float64\n",
      " 15  schoolsup            386 non-null    object \n",
      " 16  famsup               356 non-null    object \n",
      " 17  paid                 355 non-null    object \n",
      " 18  activities           381 non-null    object \n",
      " 19  nursery              379 non-null    object \n",
      " 20  studytime, granular  388 non-null    float64\n",
      " 21  higher               375 non-null    object \n",
      " 22  internet             361 non-null    object \n",
      " 23  romantic             364 non-null    object \n",
      " 24  famrel               368 non-null    float64\n",
      " 25  freetime             384 non-null    float64\n",
      " 26  goout                387 non-null    float64\n",
      " 27  health               380 non-null    float64\n",
      " 28  absences             383 non-null    float64\n",
      " 29  score                389 non-null    float64\n",
      "dtypes: float64(12), int64(1), object(17)\n",
      "memory usage: 66.4+ KB\n"
     ]
    }
   ],
   "source": [
    "stud_math.info()"
   ]
  },
  {
   "cell_type": "markdown",
   "metadata": {},
   "source": [
    "У нас 395 строк и 30 колонок. Целевая переменная: score. Количественные переменные: age, absences, score. Остальные категориальные."
   ]
  },
  {
   "cell_type": "code",
   "execution_count": null,
   "metadata": {},
   "outputs": [],
   "source": []
  },
  {
   "cell_type": "code",
   "execution_count": 281,
   "metadata": {},
   "outputs": [
    {
     "data": {
      "text/plain": [
       "school                  0\n",
       "sex                     0\n",
       "age                     0\n",
       "address                17\n",
       "famsize                27\n",
       "pstatus                45\n",
       "medu                    3\n",
       "fedu                   24\n",
       "mjob                   19\n",
       "fjob                   36\n",
       "reason                 17\n",
       "guardian               31\n",
       "traveltime             28\n",
       "studytime               7\n",
       "failures               22\n",
       "schoolsup               9\n",
       "famsup                 39\n",
       "paid                   40\n",
       "activities             14\n",
       "nursery                16\n",
       "studytime, granular     7\n",
       "higher                 20\n",
       "internet               34\n",
       "romantic               31\n",
       "famrel                 27\n",
       "freetime               11\n",
       "goout                   8\n",
       "health                 15\n",
       "absences               12\n",
       "score                   6\n",
       "dtype: int64"
      ]
     },
     "execution_count": 281,
     "metadata": {},
     "output_type": "execute_result"
    }
   ],
   "source": [
    "stud_math.isnull().sum() "
   ]
  },
  {
   "cell_type": "markdown",
   "metadata": {},
   "source": [
    "Только 3 колонки без пропусков."
   ]
  },
  {
   "cell_type": "markdown",
   "metadata": {},
   "source": [
    "### Рассмотрим все колонки по отдельности"
   ]
  },
  {
   "cell_type": "markdown",
   "metadata": {},
   "source": [
    "#### school               "
   ]
  },
  {
   "cell_type": "code",
   "execution_count": 282,
   "metadata": {},
   "outputs": [
    {
     "name": "stdout",
     "output_type": "stream",
     "text": [
      "GP    349\n",
      "MS     46\n",
      "Name: school, dtype: int64\n"
     ]
    }
   ],
   "source": [
    "nominal_col(stud_math.school)"
   ]
  },
  {
   "cell_type": "markdown",
   "metadata": {},
   "source": [
    "Учащихся GP намного больше. Пропусков нет"
   ]
  },
  {
   "cell_type": "markdown",
   "metadata": {},
   "source": [
    "#### sex                  "
   ]
  },
  {
   "cell_type": "code",
   "execution_count": 283,
   "metadata": {},
   "outputs": [
    {
     "name": "stdout",
     "output_type": "stream",
     "text": [
      "F    208\n",
      "M    187\n",
      "Name: sex, dtype: int64\n"
     ]
    }
   ],
   "source": [
    "nominal_col(stud_math.sex)"
   ]
  },
  {
   "cell_type": "markdown",
   "metadata": {},
   "source": [
    "По половому признаку примерно одинаково."
   ]
  },
  {
   "cell_type": "markdown",
   "metadata": {},
   "source": [
    "#### age "
   ]
  },
  {
   "cell_type": "code",
   "execution_count": 284,
   "metadata": {},
   "outputs": [
    {
     "data": {
      "text/plain": [
       "count    395.000000\n",
       "mean      16.696203\n",
       "std        1.276043\n",
       "min       15.000000\n",
       "25%       16.000000\n",
       "50%       17.000000\n",
       "75%       18.000000\n",
       "max       22.000000\n",
       "Name: age, dtype: float64"
      ]
     },
     "metadata": {},
     "output_type": "display_data"
    },
    {
     "name": "stdout",
     "output_type": "stream",
     "text": [
      "Пропущенных значений:  0\n",
      "25-й перцентиль: 16.0, 75-й перцентиль: 18.0, IQR: 2.0,  Границы выбросов: [13.0, 21.0].\n"
     ]
    },
    {
     "data": {
      "image/png": "[encoded data removed]",
      "text/plain": [
       "<Figure size 432x288 with 1 Axes>"
      ]
     },
     "metadata": {},
     "output_type": "display_data"
    }
   ],
   "source": [
    "ordered_col(stud_math.age, 20)\n",
    "outliers(stud_math.age)"
   ]
  },
  {
   "cell_type": "markdown",
   "metadata": {},
   "source": [
    "Преобладают учащиеся в возрасте от 16 до 18 лет. Молодые люди в возрасте 22 года находятся за границей выбросов. Но это не выбросы, мы рассматриваем датасет учащихся в возрасте от 15 до 22 лет. Оставляем все значения"
   ]
  },
  {
   "cell_type": "markdown",
   "metadata": {},
   "source": [
    "#### address — тип адреса ученика ('U' - городской, 'R' - за городом)"
   ]
  },
  {
   "cell_type": "code",
   "execution_count": 285,
   "metadata": {},
   "outputs": [
    {
     "name": "stdout",
     "output_type": "stream",
     "text": [
      "U      295\n",
      "R       83\n",
      "NaN     17\n",
      "Name: address, dtype: int64\n"
     ]
    }
   ],
   "source": [
    "nominal_col(stud_math.address)"
   ]
  },
  {
   "cell_type": "markdown",
   "metadata": {},
   "source": [
    "В основном дети живут в городе. Так как мода ярко выраженна, заменим пустые значения на моду."
   ]
  },
  {
   "cell_type": "code",
   "execution_count": 286,
   "metadata": {},
   "outputs": [
    {
     "name": "stdout",
     "output_type": "stream",
     "text": [
      "U    312\n",
      "R     83\n",
      "Name: address, dtype: int64\n"
     ]
    }
   ],
   "source": [
    "fillna_moda(stud_math.address)"
   ]
  },
  {
   "cell_type": "markdown",
   "metadata": {},
   "source": [
    "#### famsize - размер семьи ('LE3' <= 3, 'GT3' > 3)."
   ]
  },
  {
   "cell_type": "code",
   "execution_count": 287,
   "metadata": {},
   "outputs": [
    {
     "name": "stdout",
     "output_type": "stream",
     "text": [
      "GT3    261\n",
      "LE3    107\n",
      "NaN     27\n",
      "Name: famsize, dtype: int64\n"
     ]
    }
   ],
   "source": [
    "nominal_col(stud_math.famsize)"
   ]
  },
  {
   "cell_type": "markdown",
   "metadata": {},
   "source": [
    "Семей с размером от 4 человек больше в 2.5 раза, по этому пустые значения заменяем на моду."
   ]
  },
  {
   "cell_type": "code",
   "execution_count": 288,
   "metadata": {},
   "outputs": [
    {
     "name": "stdout",
     "output_type": "stream",
     "text": [
      "GT3    288\n",
      "LE3    107\n",
      "Name: famsize, dtype: int64\n"
     ]
    }
   ],
   "source": [
    "fillna_moda(stud_math.famsize)"
   ]
  },
  {
   "cell_type": "markdown",
   "metadata": {},
   "source": [
    "#### pstatus - статус совместного жилья родителей"
   ]
  },
  {
   "cell_type": "code",
   "execution_count": 289,
   "metadata": {},
   "outputs": [
    {
     "name": "stdout",
     "output_type": "stream",
     "text": [
      "T      314\n",
      "NaN     45\n",
      "A       36\n",
      "Name: pstatus, dtype: int64\n"
     ]
    }
   ],
   "source": [
    "nominal_col(stud_math.pstatus)"
   ]
  },
  {
   "cell_type": "markdown",
   "metadata": {},
   "source": [
    "'T' - живут вместе 'A' - раздельно. Обычно родители живут вместе. Есть пустые значения. Если семья состоит из 4 человек, то большая вероятность что родители живут вместе. "
   ]
  },
  {
   "cell_type": "code",
   "execution_count": 290,
   "metadata": {},
   "outputs": [
    {
     "name": "stdout",
     "output_type": "stream",
     "text": [
      "T      346\n",
      "A       36\n",
      "NaN     13\n",
      "Name: pstatus, dtype: int64\n"
     ]
    }
   ],
   "source": [
    "stud_math.loc[((stud_math['pstatus'].isnull()) & (stud_math['famsize'] == 'GT3')), 'pstatus'] = 'T'\n",
    "nominal_col(stud_math.pstatus)"
   ]
  },
  {
   "cell_type": "markdown",
   "metadata": {},
   "source": [
    "Остальные пустые удалим"
   ]
  },
  {
   "cell_type": "code",
   "execution_count": 291,
   "metadata": {},
   "outputs": [
    {
     "name": "stdout",
     "output_type": "stream",
     "text": [
      "T    346\n",
      "A     36\n",
      "Name: pstatus, dtype: int64\n"
     ]
    }
   ],
   "source": [
    "stud_math.drop(stud_math[stud_math.pstatus.isna()].index, inplace=True)\n",
    "nominal_col(stud_math.pstatus)"
   ]
  },
  {
   "cell_type": "markdown",
   "metadata": {},
   "source": [
    "#### medu - образование матери"
   ]
  },
  {
   "cell_type": "code",
   "execution_count": 292,
   "metadata": {},
   "outputs": [
    {
     "name": "stdout",
     "output_type": "stream",
     "text": [
      "4.0    131\n",
      "2.0     99\n",
      "3.0     89\n",
      "1.0     57\n",
      "0.0      3\n",
      "NaN      3\n",
      "Name: medu, dtype: int64\n"
     ]
    }
   ],
   "source": [
    "nominal_col(stud_math.medu)"
   ]
  },
  {
   "cell_type": "markdown",
   "metadata": {},
   "source": [
    "0 - нет, 1 - 4 класса, 2 - 5-9 классы, 3 - среднее специальное или 11 классов, 4 - высшее. Заменим пропуски на моду.\n"
   ]
  },
  {
   "cell_type": "code",
   "execution_count": 293,
   "metadata": {},
   "outputs": [
    {
     "name": "stdout",
     "output_type": "stream",
     "text": [
      "4.0    134\n",
      "2.0     99\n",
      "3.0     89\n",
      "1.0     57\n",
      "0.0      3\n",
      "Name: medu, dtype: int64\n"
     ]
    }
   ],
   "source": [
    "fillna_moda(stud_math.medu)"
   ]
  },
  {
   "cell_type": "markdown",
   "metadata": {},
   "source": [
    "#### fedu - образование отца"
   ]
  },
  {
   "cell_type": "code",
   "execution_count": 294,
   "metadata": {},
   "outputs": [
    {
     "name": "stdout",
     "output_type": "stream",
     "text": [
      "2.0     104\n",
      "3.0      91\n",
      "4.0      85\n",
      "1.0      75\n",
      "NaN      24\n",
      "0.0       2\n",
      "40.0      1\n",
      "Name: fedu, dtype: int64\n"
     ]
    }
   ],
   "source": [
    "nominal_col(stud_math.fedu)"
   ]
  },
  {
   "cell_type": "markdown",
   "metadata": {},
   "source": [
    "Значение 40 - ошибка, скорее всего это 4. "
   ]
  },
  {
   "cell_type": "code",
   "execution_count": 295,
   "metadata": {},
   "outputs": [
    {
     "name": "stdout",
     "output_type": "stream",
     "text": [
      "2.0    104\n",
      "3.0     91\n",
      "4.0     86\n",
      "1.0     75\n",
      "NaN     24\n",
      "0.0      2\n",
      "Name: fedu, dtype: int64\n"
     ]
    }
   ],
   "source": [
    "stud_math.loc[stud_math.fedu == 40, 'fedu'] = 4\n",
    "nominal_col(stud_math.fedu)"
   ]
  },
  {
   "cell_type": "markdown",
   "metadata": {},
   "source": [
    "0 - нет, 1 - 4 класса, 2 - 5-9 классы, 3 - среднее специальное или 11 классов, 4 - высшее. Пропусков дастаточно много, заменю случайным значением 1 - 4. Вероятность 0 значения крайне мала, по этому не включаем его. "
   ]
  },
  {
   "cell_type": "code",
   "execution_count": 296,
   "metadata": {
    "scrolled": true
   },
   "outputs": [],
   "source": [
    "np.random.seed(0)\n",
    "stud_math.fedu = fillna_random(stud_math.fedu, 1, 5)"
   ]
  },
  {
   "cell_type": "markdown",
   "metadata": {},
   "source": [
    "#### mjob - работа матери"
   ]
  },
  {
   "cell_type": "code",
   "execution_count": 297,
   "metadata": {},
   "outputs": [
    {
     "name": "stdout",
     "output_type": "stream",
     "text": [
      "other       130\n",
      "services     93\n",
      "at_home      57\n",
      "teacher      54\n",
      "health       32\n",
      "NaN          16\n",
      "Name: mjob, dtype: int64\n"
     ]
    }
   ],
   "source": [
    "nominal_col(stud_math.mjob)"
   ]
  },
  {
   "cell_type": "markdown",
   "metadata": {},
   "source": [
    "Пустые значения заменяем на моду."
   ]
  },
  {
   "cell_type": "code",
   "execution_count": 298,
   "metadata": {},
   "outputs": [
    {
     "name": "stdout",
     "output_type": "stream",
     "text": [
      "other       146\n",
      "services     93\n",
      "at_home      57\n",
      "teacher      54\n",
      "health       32\n",
      "Name: mjob, dtype: int64\n"
     ]
    }
   ],
   "source": [
    "fillna_moda(stud_math.mjob)"
   ]
  },
  {
   "cell_type": "markdown",
   "metadata": {},
   "source": [
    "'teacher' - учитель, 'health' - сфера здравоохранения, 'services' - гос служба, 'at_home' - не работает, 'other' - другое"
   ]
  },
  {
   "cell_type": "markdown",
   "metadata": {},
   "source": [
    "#### fjob - работа отца"
   ]
  },
  {
   "cell_type": "code",
   "execution_count": 299,
   "metadata": {},
   "outputs": [
    {
     "name": "stdout",
     "output_type": "stream",
     "text": [
      "other       185\n",
      "services    101\n",
      "NaN          36\n",
      "teacher      29\n",
      "at_home      16\n",
      "health       15\n",
      "Name: fjob, dtype: int64\n"
     ]
    }
   ],
   "source": [
    "nominal_col(stud_math.fjob)"
   ]
  },
  {
   "cell_type": "markdown",
   "metadata": {},
   "source": [
    "'teacher' - учитель, 'health' - сфера здравоохранения, 'services' - гос служба, 'at_home' - не работает, 'other' - другое\n",
    "\n",
    "Пропусков 36. Слишком много для удаления (почти 10% от всех данных). Заменяем модой."
   ]
  },
  {
   "cell_type": "code",
   "execution_count": 300,
   "metadata": {},
   "outputs": [
    {
     "name": "stdout",
     "output_type": "stream",
     "text": [
      "other       221\n",
      "services    101\n",
      "teacher      29\n",
      "at_home      16\n",
      "health       15\n",
      "Name: fjob, dtype: int64\n"
     ]
    }
   ],
   "source": [
    "fillna_moda(stud_math.fjob)"
   ]
  },
  {
   "cell_type": "markdown",
   "metadata": {},
   "source": [
    "#### reason - причина выбора школы"
   ]
  },
  {
   "cell_type": "code",
   "execution_count": 301,
   "metadata": {},
   "outputs": [
    {
     "name": "stdout",
     "output_type": "stream",
     "text": [
      "course        136\n",
      "home           99\n",
      "reputation     97\n",
      "other          33\n",
      "NaN            17\n",
      "Name: reason, dtype: int64\n"
     ]
    }
   ],
   "source": [
    "nominal_col(stud_math.reason)"
   ]
  },
  {
   "cell_type": "markdown",
   "metadata": {},
   "source": [
    "'home' - близость к дому, 'reputation' - репутация школы, 'course' - образовательная программа, 'other' - другое\n",
    "\n",
    "Большенство семей при выборе школы в первую очередь смотрели на образовательную программу. Пропуски заменяем модой."
   ]
  },
  {
   "cell_type": "code",
   "execution_count": 302,
   "metadata": {},
   "outputs": [
    {
     "name": "stdout",
     "output_type": "stream",
     "text": [
      "course        153\n",
      "home           99\n",
      "reputation     97\n",
      "other          33\n",
      "Name: reason, dtype: int64\n"
     ]
    }
   ],
   "source": [
    "fillna_moda(stud_math.reason)"
   ]
  },
  {
   "cell_type": "markdown",
   "metadata": {},
   "source": [
    "#### guardian - опекун"
   ]
  },
  {
   "cell_type": "code",
   "execution_count": 303,
   "metadata": {},
   "outputs": [
    {
     "name": "stdout",
     "output_type": "stream",
     "text": [
      "mother    240\n",
      "father     84\n",
      "NaN        31\n",
      "other      27\n",
      "Name: guardian, dtype: int64\n"
     ]
    }
   ],
   "source": [
    "nominal_col(stud_math.guardian)"
   ]
  },
  {
   "cell_type": "markdown",
   "metadata": {},
   "source": [
    "'mother' - мать, 'father' - отец, 'other' - другое\n",
    "\n",
    "Мода ярко выражена. Большая вероятность того, что большая часть пропусков совпадет с модой."
   ]
  },
  {
   "cell_type": "code",
   "execution_count": 304,
   "metadata": {},
   "outputs": [
    {
     "name": "stdout",
     "output_type": "stream",
     "text": [
      "mother    271\n",
      "father     84\n",
      "other      27\n",
      "Name: guardian, dtype: int64\n"
     ]
    }
   ],
   "source": [
    "fillna_moda(stud_math.guardian)"
   ]
  },
  {
   "cell_type": "markdown",
   "metadata": {},
   "source": [
    "#### traveltime -  время в пути до школы"
   ]
  },
  {
   "cell_type": "code",
   "execution_count": 305,
   "metadata": {},
   "outputs": [
    {
     "name": "stdout",
     "output_type": "stream",
     "text": [
      "1.0    236\n",
      "2.0     92\n",
      "NaN     27\n",
      "3.0     21\n",
      "4.0      6\n",
      "Name: traveltime, dtype: int64\n"
     ]
    }
   ],
   "source": [
    "nominal_col(stud_math.traveltime)"
   ]
  },
  {
   "cell_type": "markdown",
   "metadata": {},
   "source": [
    "1 - <15 мин., 2 - 15-30 мин., 3 - 30-60 мин., 4 - >60 мин.\n",
    "\n",
    "Обычно школу выбирают рядом с домом. Пустые заменим на случайные от 1-2."
   ]
  },
  {
   "cell_type": "code",
   "execution_count": 306,
   "metadata": {},
   "outputs": [],
   "source": [
    "np.random.seed(1)\n",
    "stud_math.traveltime = fillna_random(stud_math.traveltime, 1, 3)"
   ]
  },
  {
   "cell_type": "code",
   "execution_count": 307,
   "metadata": {},
   "outputs": [
    {
     "name": "stdout",
     "output_type": "stream",
     "text": [
      "1.0    250\n",
      "2.0    105\n",
      "3.0     21\n",
      "4.0      6\n",
      "Name: traveltime, dtype: int64\n"
     ]
    }
   ],
   "source": [
    "nominal_col(stud_math.traveltime)"
   ]
  },
  {
   "cell_type": "markdown",
   "metadata": {},
   "source": [
    "#### studytime - время на учёбу помимо школы в неделю"
   ]
  },
  {
   "cell_type": "code",
   "execution_count": 308,
   "metadata": {},
   "outputs": [
    {
     "name": "stdout",
     "output_type": "stream",
     "text": [
      "2.0    186\n",
      "1.0    100\n",
      "3.0     64\n",
      "4.0     26\n",
      "NaN      6\n",
      "Name: studytime, dtype: int64\n"
     ]
    }
   ],
   "source": [
    "nominal_col(stud_math.studytime)"
   ]
  },
  {
   "cell_type": "markdown",
   "metadata": {},
   "source": [
    "1 - <2 часов, 2 - 2-5 часов, 3 - 5-10 часов, 4 - >10 часов"
   ]
  },
  {
   "cell_type": "markdown",
   "metadata": {},
   "source": [
    "Пустые значения заменим случайными."
   ]
  },
  {
   "cell_type": "code",
   "execution_count": 309,
   "metadata": {},
   "outputs": [],
   "source": [
    "np.random.seed(2)\n",
    "stud_math.studytime = fillna_random(stud_math.studytime, 1, 5)"
   ]
  },
  {
   "cell_type": "code",
   "execution_count": 310,
   "metadata": {},
   "outputs": [
    {
     "name": "stdout",
     "output_type": "stream",
     "text": [
      "2.0    187\n",
      "1.0    102\n",
      "3.0     65\n",
      "4.0     28\n",
      "Name: studytime, dtype: int64\n"
     ]
    }
   ],
   "source": [
    "nominal_col(stud_math.studytime)"
   ]
  },
  {
   "cell_type": "markdown",
   "metadata": {},
   "source": [
    "#### failures - количество внеучебных неудач"
   ]
  },
  {
   "cell_type": "code",
   "execution_count": 311,
   "metadata": {},
   "outputs": [
    {
     "name": "stdout",
     "output_type": "stream",
     "text": [
      "0.0    282\n",
      "1.0     49\n",
      "NaN     21\n",
      "2.0     16\n",
      "3.0     14\n",
      "Name: failures, dtype: int64\n"
     ]
    }
   ],
   "source": [
    "nominal_col(stud_math.failures)"
   ]
  },
  {
   "cell_type": "markdown",
   "metadata": {},
   "source": [
    "n, если 1<=n<=3, иначе 0\n",
    "\n",
    "Значительно больше детей не сталкивается с неудачами. Заменяем модой. "
   ]
  },
  {
   "cell_type": "code",
   "execution_count": 312,
   "metadata": {},
   "outputs": [
    {
     "name": "stdout",
     "output_type": "stream",
     "text": [
      "0.0    303\n",
      "1.0     49\n",
      "2.0     16\n",
      "3.0     14\n",
      "Name: failures, dtype: int64\n"
     ]
    }
   ],
   "source": [
    "fillna_moda(stud_math.failures)"
   ]
  },
  {
   "cell_type": "markdown",
   "metadata": {},
   "source": [
    "#### schoolsup - дополнительная образовательная поддержка"
   ]
  },
  {
   "cell_type": "code",
   "execution_count": 313,
   "metadata": {},
   "outputs": [
    {
     "name": "stdout",
     "output_type": "stream",
     "text": [
      "no     323\n",
      "yes     50\n",
      "NaN      9\n",
      "Name: schoolsup, dtype: int64\n"
     ]
    }
   ],
   "source": [
    "nominal_col(stud_math.schoolsup)"
   ]
  },
  {
   "cell_type": "markdown",
   "metadata": {},
   "source": [
    "Мода ярко выражена."
   ]
  },
  {
   "cell_type": "code",
   "execution_count": 314,
   "metadata": {},
   "outputs": [
    {
     "name": "stdout",
     "output_type": "stream",
     "text": [
      "no     332\n",
      "yes     50\n",
      "Name: schoolsup, dtype: int64\n"
     ]
    }
   ],
   "source": [
    "fillna_moda(stud_math.schoolsup)"
   ]
  },
  {
   "cell_type": "markdown",
   "metadata": {},
   "source": [
    "#### famsup — семейная образовательная поддержка "
   ]
  },
  {
   "cell_type": "code",
   "execution_count": 315,
   "metadata": {},
   "outputs": [
    {
     "name": "stdout",
     "output_type": "stream",
     "text": [
      "yes    213\n",
      "no     133\n",
      "NaN     36\n",
      "Name: famsup, dtype: int64\n"
     ]
    }
   ],
   "source": [
    "nominal_col(stud_math.famsup)"
   ]
  },
  {
   "cell_type": "markdown",
   "metadata": {},
   "source": [
    "Заменим пропуски случайно"
   ]
  },
  {
   "cell_type": "code",
   "execution_count": 316,
   "metadata": {},
   "outputs": [],
   "source": [
    "np.random.seed(3)\n",
    "stud_math.famsup = fillna_random(stud_math.famsup, 0, 2)"
   ]
  },
  {
   "cell_type": "code",
   "execution_count": 317,
   "metadata": {},
   "outputs": [
    {
     "name": "stdout",
     "output_type": "stream",
     "text": [
      "yes    229\n",
      "no     153\n",
      "Name: famsup, dtype: int64\n"
     ]
    }
   ],
   "source": [
    "stud_math.famsup = fillna_yes_no(stud_math.famsup)\n",
    "nominal_col(stud_math.famsup)"
   ]
  },
  {
   "cell_type": "markdown",
   "metadata": {},
   "source": [
    " #### paid — дополнительные платные занятия по математике"
   ]
  },
  {
   "cell_type": "code",
   "execution_count": 318,
   "metadata": {},
   "outputs": [
    {
     "name": "stdout",
     "output_type": "stream",
     "text": [
      "no     194\n",
      "yes    148\n",
      "NaN     40\n",
      "Name: paid, dtype: int64\n"
     ]
    }
   ],
   "source": [
    "nominal_col(stud_math.paid)"
   ]
  },
  {
   "cell_type": "markdown",
   "metadata": {},
   "source": [
    "Распределение примерно одинаковое. Случайно заполним пропуски"
   ]
  },
  {
   "cell_type": "code",
   "execution_count": 319,
   "metadata": {},
   "outputs": [
    {
     "name": "stdout",
     "output_type": "stream",
     "text": [
      "no     217\n",
      "yes    165\n",
      "Name: paid, dtype: int64\n"
     ]
    }
   ],
   "source": [
    "np.random.seed(4)\n",
    "stud_math.paid = fillna_random(stud_math.paid, 0, 2)\n",
    "stud_math.paid = fillna_yes_no(stud_math.paid)\n",
    "nominal_col(stud_math.paid)"
   ]
  },
  {
   "cell_type": "markdown",
   "metadata": {},
   "source": [
    "#### activities — дополнительные внеучебные занятия "
   ]
  },
  {
   "cell_type": "code",
   "execution_count": 320,
   "metadata": {},
   "outputs": [
    {
     "name": "stdout",
     "output_type": "stream",
     "text": [
      "yes    187\n",
      "no     182\n",
      "NaN     13\n",
      "Name: activities, dtype: int64\n"
     ]
    }
   ],
   "source": [
    "nominal_col(stud_math.activities)"
   ]
  },
  {
   "cell_type": "markdown",
   "metadata": {},
   "source": [
    "Распределение примерно одинаковое. Случайно заполним пропуски"
   ]
  },
  {
   "cell_type": "code",
   "execution_count": 321,
   "metadata": {},
   "outputs": [
    {
     "name": "stdout",
     "output_type": "stream",
     "text": [
      "yes    193\n",
      "no     189\n",
      "Name: activities, dtype: int64\n"
     ]
    }
   ],
   "source": [
    "np.random.seed(5)\n",
    "stud_math.activities = fillna_random(stud_math.activities, 0, 2)\n",
    "stud_math.activities = fillna_yes_no(stud_math.activities)\n",
    "nominal_col(stud_math.activities)"
   ]
  },
  {
   "cell_type": "markdown",
   "metadata": {},
   "source": [
    "#### nursery — посещал детский сад"
   ]
  },
  {
   "cell_type": "code",
   "execution_count": 322,
   "metadata": {},
   "outputs": [
    {
     "name": "stdout",
     "output_type": "stream",
     "text": [
      "yes    289\n",
      "no      77\n",
      "NaN     16\n",
      "Name: nursery, dtype: int64\n"
     ]
    }
   ],
   "source": [
    "nominal_col(stud_math.nursery)"
   ]
  },
  {
   "cell_type": "markdown",
   "metadata": {},
   "source": [
    "Ощутимая раздница, по этому пропуски заменим модой."
   ]
  },
  {
   "cell_type": "code",
   "execution_count": 323,
   "metadata": {},
   "outputs": [
    {
     "name": "stdout",
     "output_type": "stream",
     "text": [
      "yes    305\n",
      "no      77\n",
      "Name: nursery, dtype: int64\n"
     ]
    }
   ],
   "source": [
    "fillna_moda(stud_math.nursery)"
   ]
  },
  {
   "cell_type": "markdown",
   "metadata": {},
   "source": [
    "#### studytime, granular"
   ]
  },
  {
   "cell_type": "code",
   "execution_count": 324,
   "metadata": {},
   "outputs": [
    {
     "name": "stdout",
     "output_type": "stream",
     "text": [
      "-6.0     186\n",
      "-3.0     100\n",
      "-9.0      64\n",
      "-12.0     26\n",
      " NaN       6\n",
      "Name: studytime, granular, dtype: int64\n"
     ]
    }
   ],
   "source": [
    "nominal_col(stud_math['studytime, granular'])"
   ]
  },
  {
   "cell_type": "markdown",
   "metadata": {},
   "source": [
    "Похожая колонка studytime уже была. Этой колонки не должно быть в датасете, не понятно что она показывает. Удалим ее."
   ]
  },
  {
   "cell_type": "code",
   "execution_count": 325,
   "metadata": {},
   "outputs": [],
   "source": [
    "stud_math.drop('studytime, granular', axis=1, inplace=True)"
   ]
  },
  {
   "cell_type": "markdown",
   "metadata": {},
   "source": [
    "#### higher — хочет получить высшее образование"
   ]
  },
  {
   "cell_type": "code",
   "execution_count": 326,
   "metadata": {},
   "outputs": [
    {
     "name": "stdout",
     "output_type": "stream",
     "text": [
      "yes    345\n",
      "no      19\n",
      "NaN     18\n",
      "Name: higher, dtype: int64\n"
     ]
    }
   ],
   "source": [
    "nominal_col(stud_math.higher)"
   ]
  },
  {
   "cell_type": "markdown",
   "metadata": {},
   "source": [
    "Здесь очевидно, все хотят получить высшее образование. Пропуски заменяем модой."
   ]
  },
  {
   "cell_type": "code",
   "execution_count": 327,
   "metadata": {},
   "outputs": [
    {
     "name": "stdout",
     "output_type": "stream",
     "text": [
      "yes    363\n",
      "no      19\n",
      "Name: higher, dtype: int64\n"
     ]
    }
   ],
   "source": [
    "fillna_moda(stud_math.higher)"
   ]
  },
  {
   "cell_type": "markdown",
   "metadata": {},
   "source": [
    "#### internet — наличие интернета дома"
   ]
  },
  {
   "cell_type": "code",
   "execution_count": 328,
   "metadata": {},
   "outputs": [
    {
     "name": "stdout",
     "output_type": "stream",
     "text": [
      "yes    295\n",
      "no      54\n",
      "NaN     33\n",
      "Name: internet, dtype: int64\n"
     ]
    }
   ],
   "source": [
    "nominal_col(stud_math.internet)"
   ]
  },
  {
   "cell_type": "markdown",
   "metadata": {},
   "source": [
    "Почти у всех есть интернет дома. Пропуски заменяем модой."
   ]
  },
  {
   "cell_type": "code",
   "execution_count": 329,
   "metadata": {},
   "outputs": [
    {
     "name": "stdout",
     "output_type": "stream",
     "text": [
      "yes    328\n",
      "no      54\n",
      "Name: internet, dtype: int64\n"
     ]
    }
   ],
   "source": [
    "fillna_moda(stud_math.internet)"
   ]
  },
  {
   "cell_type": "markdown",
   "metadata": {},
   "source": [
    "#### romantic — в романтических отношениях"
   ]
  },
  {
   "cell_type": "code",
   "execution_count": 330,
   "metadata": {},
   "outputs": [
    {
     "name": "stdout",
     "output_type": "stream",
     "text": [
      "no     232\n",
      "yes    121\n",
      "NaN     29\n",
      "Name: romantic, dtype: int64\n"
     ]
    }
   ],
   "source": [
    "nominal_col(stud_math.romantic)"
   ]
  },
  {
   "cell_type": "markdown",
   "metadata": {},
   "source": [
    "Пропуски заменяем модой."
   ]
  },
  {
   "cell_type": "code",
   "execution_count": 331,
   "metadata": {},
   "outputs": [
    {
     "name": "stdout",
     "output_type": "stream",
     "text": [
      "no     261\n",
      "yes    121\n",
      "Name: romantic, dtype: int64\n"
     ]
    }
   ],
   "source": [
    "fillna_moda(stud_math.romantic)"
   ]
  },
  {
   "cell_type": "markdown",
   "metadata": {},
   "source": [
    "#### famrel — семейные отношения"
   ]
  },
  {
   "cell_type": "code",
   "execution_count": 332,
   "metadata": {},
   "outputs": [
    {
     "name": "stdout",
     "output_type": "stream",
     "text": [
      " 4.0    177\n",
      " 5.0     94\n",
      " 3.0     60\n",
      " NaN     27\n",
      " 2.0     17\n",
      " 1.0      6\n",
      "-1.0      1\n",
      "Name: famrel, dtype: int64\n"
     ]
    }
   ],
   "source": [
    "nominal_col(stud_math.famrel)"
   ]
  },
  {
   "cell_type": "markdown",
   "metadata": {},
   "source": [
    "1 - очень плохо до 5 - очень хорошо. значение -1 скорее всего опечатка. Заменим на 1"
   ]
  },
  {
   "cell_type": "code",
   "execution_count": 333,
   "metadata": {},
   "outputs": [
    {
     "name": "stdout",
     "output_type": "stream",
     "text": [
      "4.0    177\n",
      "5.0     94\n",
      "3.0     60\n",
      "NaN     27\n",
      "2.0     17\n",
      "1.0      7\n",
      "Name: famrel, dtype: int64\n"
     ]
    }
   ],
   "source": [
    "stud_math.loc[stud_math.famrel == -1, 'famrel'] = 1\n",
    "nominal_col(stud_math.famrel)"
   ]
  },
  {
   "cell_type": "markdown",
   "metadata": {},
   "source": [
    "Пропуски удалим."
   ]
  },
  {
   "cell_type": "code",
   "execution_count": 334,
   "metadata": {},
   "outputs": [
    {
     "name": "stdout",
     "output_type": "stream",
     "text": [
      "4.0    177\n",
      "5.0     94\n",
      "3.0     60\n",
      "2.0     17\n",
      "1.0      7\n",
      "Name: famrel, dtype: int64\n"
     ]
    }
   ],
   "source": [
    "stud_math.drop(stud_math[stud_math.famrel.isnull() == True].index, inplace=True)\n",
    "nominal_col(stud_math.famrel)"
   ]
  },
  {
   "cell_type": "markdown",
   "metadata": {},
   "source": [
    "#### freetime — свободное время после школы"
   ]
  },
  {
   "cell_type": "code",
   "execution_count": 335,
   "metadata": {},
   "outputs": [
    {
     "name": "stdout",
     "output_type": "stream",
     "text": [
      "3.0    134\n",
      "4.0    103\n",
      "2.0     56\n",
      "5.0     35\n",
      "1.0     17\n",
      "NaN     10\n",
      "Name: freetime, dtype: int64\n"
     ]
    }
   ],
   "source": [
    "nominal_col(stud_math.freetime)"
   ]
  },
  {
   "cell_type": "markdown",
   "metadata": {},
   "source": [
    "От 1 - очень мало до 5 - очень мого. Заполним пропуски случайно 3 или 4, т.к. чаще встречаются и примерно равны."
   ]
  },
  {
   "cell_type": "code",
   "execution_count": 336,
   "metadata": {},
   "outputs": [
    {
     "name": "stdout",
     "output_type": "stream",
     "text": [
      "3.0    140\n",
      "4.0    107\n",
      "2.0     56\n",
      "5.0     35\n",
      "1.0     17\n",
      "Name: freetime, dtype: int64\n"
     ]
    }
   ],
   "source": [
    "np.random.seed(6)\n",
    "stud_math.freetime = fillna_random(stud_math.freetime, 3, 5)\n",
    "nominal_col(stud_math.freetime)"
   ]
  },
  {
   "cell_type": "markdown",
   "metadata": {},
   "source": [
    "#### goout — проведение времени с друзьями"
   ]
  },
  {
   "cell_type": "code",
   "execution_count": 337,
   "metadata": {},
   "outputs": [
    {
     "name": "stdout",
     "output_type": "stream",
     "text": [
      "3.0    114\n",
      "2.0     93\n",
      "4.0     75\n",
      "5.0     45\n",
      "1.0     20\n",
      "NaN      8\n",
      "Name: goout, dtype: int64\n"
     ]
    }
   ],
   "source": [
    "nominal_col(stud_math.goout)"
   ]
  },
  {
   "cell_type": "markdown",
   "metadata": {},
   "source": [
    "От 1 - очень мало до 5 - очень мого. Заполним пропуски случайно 2 - 4. "
   ]
  },
  {
   "cell_type": "code",
   "execution_count": 338,
   "metadata": {},
   "outputs": [
    {
     "name": "stdout",
     "output_type": "stream",
     "text": [
      "3.0    116\n",
      "2.0     95\n",
      "4.0     79\n",
      "5.0     45\n",
      "1.0     20\n",
      "Name: goout, dtype: int64\n"
     ]
    }
   ],
   "source": [
    "np.random.seed(6)\n",
    "stud_math.goout = fillna_random(stud_math.goout, 2, 5)\n",
    "nominal_col(stud_math.goout)"
   ]
  },
  {
   "cell_type": "markdown",
   "metadata": {},
   "source": [
    "#### health — текущее состояние здоровья"
   ]
  },
  {
   "cell_type": "code",
   "execution_count": 339,
   "metadata": {},
   "outputs": [
    {
     "name": "stdout",
     "output_type": "stream",
     "text": [
      "5.0    117\n",
      "3.0     84\n",
      "4.0     59\n",
      "2.0     41\n",
      "1.0     40\n",
      "NaN     14\n",
      "Name: health, dtype: int64\n"
     ]
    }
   ],
   "source": [
    "nominal_col(stud_math.health)"
   ]
  },
  {
   "cell_type": "markdown",
   "metadata": {},
   "source": [
    "от 1 - очень мало до 5 - очень много. Заполним пропуски случайно."
   ]
  },
  {
   "cell_type": "code",
   "execution_count": 340,
   "metadata": {},
   "outputs": [
    {
     "name": "stdout",
     "output_type": "stream",
     "text": [
      "5.0    117\n",
      "3.0     87\n",
      "4.0     65\n",
      "2.0     46\n",
      "1.0     40\n",
      "Name: health, dtype: int64\n"
     ]
    }
   ],
   "source": [
    "np.random.seed(7)\n",
    "stud_math.health = fillna_random(stud_math.health, 2, 5)\n",
    "nominal_col(stud_math.health)"
   ]
  },
  {
   "cell_type": "markdown",
   "metadata": {},
   "source": [
    "#### absences — количество пропущенных занятий"
   ]
  },
  {
   "cell_type": "code",
   "execution_count": 341,
   "metadata": {},
   "outputs": [
    {
     "data": {
      "text/plain": [
       "count    345.000000\n",
       "mean       7.173913\n",
       "std       24.228777\n",
       "min        0.000000\n",
       "25%        0.000000\n",
       "50%        4.000000\n",
       "75%        8.000000\n",
       "max      385.000000\n",
       "Name: absences, dtype: float64"
      ]
     },
     "metadata": {},
     "output_type": "display_data"
    },
    {
     "name": "stdout",
     "output_type": "stream",
     "text": [
      "Пропущенных значений:  10\n",
      "25-й перцентиль: 0.0, 75-й перцентиль: 8.0, IQR: 8.0,  Границы выбросов: [-12.0, 20.0].\n"
     ]
    },
    {
     "data": {
      "image/png": "[encoded data removed]",
      "text/plain": [
       "<Figure size 432x288 with 1 Axes>"
      ]
     },
     "metadata": {},
     "output_type": "display_data"
    }
   ],
   "source": [
    "ordered_col(stud_math.absences)\n",
    "outliers(stud_math.absences)"
   ]
  },
  {
   "cell_type": "markdown",
   "metadata": {},
   "source": [
    "посмотрим на выбросы"
   ]
  },
  {
   "cell_type": "code",
   "execution_count": 342,
   "metadata": {},
   "outputs": [
    {
     "data": {
      "text/plain": [
       "array([ 21.,  22.,  23.,  24.,  25.,  26.,  28.,  30.,  38.,  40.,  54.,\n",
       "       212., 385.])"
      ]
     },
     "execution_count": 342,
     "metadata": {},
     "output_type": "execute_result"
    }
   ],
   "source": [
    "stud_math[stud_math.absences > 20].absences.sort_values().unique()"
   ]
  },
  {
   "cell_type": "markdown",
   "metadata": {},
   "source": [
    "Очень странные значения  385 и 212. Удалим их, сильно влияют на статистики. Заполним пропуски средним ."
   ]
  },
  {
   "cell_type": "code",
   "execution_count": 343,
   "metadata": {},
   "outputs": [],
   "source": [
    "stud_math.drop(stud_math[stud_math.absences > 200].index, inplace=True)\n",
    "stud_math.fillna(round(stud_math.absences.mean()), inplace=True)"
   ]
  },
  {
   "cell_type": "markdown",
   "metadata": {},
   "source": [
    "#### score — баллы по госэкзамену по математике"
   ]
  },
  {
   "cell_type": "code",
   "execution_count": 344,
   "metadata": {},
   "outputs": [
    {
     "data": {
      "text/plain": [
       "count    353.000000\n",
       "mean      51.487252\n",
       "std       23.524298\n",
       "min        0.000000\n",
       "25%       40.000000\n",
       "50%       55.000000\n",
       "75%       65.000000\n",
       "max      100.000000\n",
       "Name: score, dtype: float64"
      ]
     },
     "metadata": {},
     "output_type": "display_data"
    },
    {
     "name": "stdout",
     "output_type": "stream",
     "text": [
      "Пропущенных значений:  0\n",
      "25-й перцентиль: 40.0, 75-й перцентиль: 65.0, IQR: 25.0,  Границы выбросов: [2.5, 102.5].\n"
     ]
    },
    {
     "data": {
      "image/png": "[encoded data removed]",
      "text/plain": [
       "<Figure size 432x288 with 1 Axes>"
      ]
     },
     "metadata": {},
     "output_type": "display_data"
    }
   ],
   "source": [
    "ordered_col(stud_math.score,20)\n",
    "outliers(stud_math.score)"
   ]
  },
  {
   "cell_type": "code",
   "execution_count": 345,
   "metadata": {
    "scrolled": true
   },
   "outputs": [
    {
     "data": {
      "text/plain": [
       "33"
      ]
     },
     "execution_count": 345,
     "metadata": {},
     "output_type": "execute_result"
    }
   ],
   "source": [
    "len(stud_math[stud_math.score == 0])"
   ]
  },
  {
   "cell_type": "markdown",
   "metadata": {},
   "source": [
    "33 человека получили 0 балов. Получить 0 балов можно если человек не пришел на экзамен, списывал и ему онулировали оценку. Будем считать что эти люди не писали экзамен вообще и удалим их."
   ]
  },
  {
   "cell_type": "code",
   "execution_count": 346,
   "metadata": {},
   "outputs": [],
   "source": [
    "stud_math.drop(stud_math[stud_math.score == 0].index, inplace=True)"
   ]
  },
  {
   "cell_type": "code",
   "execution_count": 347,
   "metadata": {},
   "outputs": [
    {
     "data": {
      "text/plain": [
       "count    320.000000\n",
       "mean      56.796875\n",
       "std       17.553483\n",
       "min        5.000000\n",
       "25%       45.000000\n",
       "50%       55.000000\n",
       "75%       70.000000\n",
       "max      100.000000\n",
       "Name: score, dtype: float64"
      ]
     },
     "metadata": {},
     "output_type": "display_data"
    },
    {
     "name": "stdout",
     "output_type": "stream",
     "text": [
      "Пропущенных значений:  0\n"
     ]
    },
    {
     "data": {
      "image/png": "[encoded data removed]",
      "text/plain": [
       "<Figure size 432x288 with 1 Axes>"
      ]
     },
     "metadata": {},
     "output_type": "display_data"
    }
   ],
   "source": [
    "ordered_col(stud_math.score,20)"
   ]
  },
  {
   "cell_type": "markdown",
   "metadata": {},
   "source": [
    "Теперь признак респределен примерно нормально."
   ]
  },
  {
   "cell_type": "code",
   "execution_count": 348,
   "metadata": {},
   "outputs": [
    {
     "name": "stdout",
     "output_type": "stream",
     "text": [
      "<class 'pandas.core.frame.DataFrame'>\n",
      "Int64Index: 320 entries, 0 to 394\n",
      "Data columns (total 29 columns):\n",
      " #   Column      Non-Null Count  Dtype  \n",
      "---  ------      --------------  -----  \n",
      " 0   school      320 non-null    object \n",
      " 1   sex         320 non-null    object \n",
      " 2   age         320 non-null    int64  \n",
      " 3   address     320 non-null    object \n",
      " 4   famsize     320 non-null    object \n",
      " 5   pstatus     320 non-null    object \n",
      " 6   medu        320 non-null    float64\n",
      " 7   fedu        320 non-null    float64\n",
      " 8   mjob        320 non-null    object \n",
      " 9   fjob        320 non-null    object \n",
      " 10  reason      320 non-null    object \n",
      " 11  guardian    320 non-null    object \n",
      " 12  traveltime  320 non-null    float64\n",
      " 13  studytime   320 non-null    float64\n",
      " 14  failures    320 non-null    float64\n",
      " 15  schoolsup   320 non-null    object \n",
      " 16  famsup      320 non-null    object \n",
      " 17  paid        320 non-null    object \n",
      " 18  activities  320 non-null    object \n",
      " 19  nursery     320 non-null    object \n",
      " 20  higher      320 non-null    object \n",
      " 21  internet    320 non-null    object \n",
      " 22  romantic    320 non-null    object \n",
      " 23  famrel      320 non-null    float64\n",
      " 24  freetime    320 non-null    float64\n",
      " 25  goout       320 non-null    float64\n",
      " 26  health      320 non-null    float64\n",
      " 27  absences    320 non-null    float64\n",
      " 28  score       320 non-null    float64\n",
      "dtypes: float64(11), int64(1), object(17)\n",
      "memory usage: 53.8+ KB\n"
     ]
    }
   ],
   "source": [
    "stud_math.info()"
   ]
  },
  {
   "cell_type": "markdown",
   "metadata": {},
   "source": [
    "Все пропуски заполнены или удалены. Было 395 строк, осталось 320"
   ]
  },
  {
   "cell_type": "markdown",
   "metadata": {},
   "source": [
    "### Корреляционный анализ"
   ]
  },
  {
   "cell_type": "markdown",
   "metadata": {},
   "source": [
    "Рассмотрим корреляцию только для числовых столбцов."
   ]
  },
  {
   "cell_type": "code",
   "execution_count": 349,
   "metadata": {},
   "outputs": [
    {
     "data": {
      "text/plain": [
       "<seaborn.axisgrid.PairGrid at 0x1934b5b0>"
      ]
     },
     "execution_count": 349,
     "metadata": {},
     "output_type": "execute_result"
    },
    {
     "data": {
      "image/png": "[encoded data removed]",
      "text/plain": [
       "<Figure size 540x540 with 12 Axes>"
      ]
     },
     "metadata": {},
     "output_type": "display_data"
    }
   ],
   "source": [
    "ordered_list = ['age', 'absences' , 'score'] # Количественные переменные\n",
    "sns.pairplot(stud_math[ordered_list], kind = 'reg')"
   ]
  },
  {
   "cell_type": "code",
   "execution_count": 350,
   "metadata": {},
   "outputs": [
    {
     "data": {
      "text/html": [
       "<div>\n",
       "<style scoped>\n",
       "    .dataframe tbody tr th:only-of-type {\n",
       "        vertical-align: middle;\n",
       "    }\n",
       "\n",
       "    .dataframe tbody tr th {\n",
       "        vertical-align: top;\n",
       "    }\n",
       "\n",
       "    .dataframe thead th {\n",
       "        text-align: right;\n",
       "    }\n",
       "</style>\n",
       "<table border=\"1\" class=\"dataframe\">\n",
       "  <thead>\n",
       "    <tr style=\"text-align: right;\">\n",
       "      <th></th>\n",
       "      <th>age</th>\n",
       "      <th>absences</th>\n",
       "      <th>score</th>\n",
       "    </tr>\n",
       "  </thead>\n",
       "  <tbody>\n",
       "    <tr>\n",
       "      <th>age</th>\n",
       "      <td>1.000000</td>\n",
       "      <td>0.192808</td>\n",
       "      <td>-0.179763</td>\n",
       "    </tr>\n",
       "    <tr>\n",
       "      <th>absences</th>\n",
       "      <td>0.192808</td>\n",
       "      <td>1.000000</td>\n",
       "      <td>-0.158240</td>\n",
       "    </tr>\n",
       "    <tr>\n",
       "      <th>score</th>\n",
       "      <td>-0.179763</td>\n",
       "      <td>-0.158240</td>\n",
       "      <td>1.000000</td>\n",
       "    </tr>\n",
       "  </tbody>\n",
       "</table>\n",
       "</div>"
      ],
      "text/plain": [
       "               age  absences     score\n",
       "age       1.000000  0.192808 -0.179763\n",
       "absences  0.192808  1.000000 -0.158240\n",
       "score    -0.179763 -0.158240  1.000000"
      ]
     },
     "execution_count": 350,
     "metadata": {},
     "output_type": "execute_result"
    }
   ],
   "source": [
    "stud_math[ordered_list].corr()"
   ]
  },
  {
   "cell_type": "markdown",
   "metadata": {},
   "source": [
    "Скоррелированных переменных нет. Оставляем все переменные. Обе числовые переменные отрицательно коррелируются с целевой переменной score. Чем больше балов набирает ученик тем моложе он и меньше у него пропущенных занятий. "
   ]
  },
  {
   "cell_type": "markdown",
   "metadata": {},
   "source": [
    "### Анализ номинативных переменных"
   ]
  },
  {
   "cell_type": "markdown",
   "metadata": {},
   "source": [
    "Для номинативных переменных посмотрим, различаются ли распределения score в зависимости от значения этих переменных. Для этого построем boxplot для каждой переменной."
   ]
  },
  {
   "cell_type": "code",
   "execution_count": 351,
   "metadata": {},
   "outputs": [],
   "source": [
    "nominal_list = ['school', 'sex', 'address', 'famsize', 'pstatus', 'medu', 'fedu',\n",
    "                'mjob', 'fjob', 'reason', 'guardian', 'traveltime', 'studytime',\n",
    "                'failures', 'schoolsup', 'famsup', 'paid', 'activities', 'nursery',\n",
    "                'higher', 'internet', 'romantic', 'famrel', 'freetime', 'goout',\n",
    "                'health']  # Качественные переменные"
   ]
  },
  {
   "cell_type": "code",
   "execution_count": 352,
   "metadata": {
    "scrolled": false
   },
   "outputs": [
    {
     "data": {
      "image/png": "[encoded data removed]",
      "text/plain": [
       "<Figure size 1008x288 with 1 Axes>"
      ]
     },
     "metadata": {},
     "output_type": "display_data"
    },
    {
     "data": {
      "image/png": "[encoded data removed]",
      "text/plain": [
       "<Figure size 1008x288 with 1 Axes>"
      ]
     },
     "metadata": {},
     "output_type": "display_data"
    },
    {
     "data": {
      "image/png": "[encoded data removed]",
      "text/plain": [
       "<Figure size 1008x288 with 1 Axes>"
      ]
     },
     "metadata": {},
     "output_type": "display_data"
    },
    {
     "data": {
      "image/png": "[encoded data removed]",
      "text/plain": [
       "<Figure size 1008x288 with 1 Axes>"
      ]
     },
     "metadata": {},
     "output_type": "display_data"
    },
    {
     "data": {
      "image/png": "[encoded data removed]",
      "text/plain": [
       "<Figure size 1008x288 with 1 Axes>"
      ]
     },
     "metadata": {},
     "output_type": "display_data"
    },
    {
     "data": {
      "image/png": "[encoded data removed]",
      "text/plain": [
       "<Figure size 1008x288 with 1 Axes>"
      ]
     },
     "metadata": {},
     "output_type": "display_data"
    },
    {
     "data": {
      "image/png": "[encoded data removed]",
      "text/plain": [
       "<Figure size 1008x288 with 1 Axes>"
      ]
     },
     "metadata": {},
     "output_type": "display_data"
    },
    {
     "data": {
      "image/png": "[encoded data removed]",
      "text/plain": [
       "<Figure size 1008x288 with 1 Axes>"
      ]
     },
     "metadata": {},
     "output_type": "display_data"
    },
    {
     "data": {
      "image/png": "[encoded data removed]",
      "text/plain": [
       "<Figure size 1008x288 with 1 Axes>"
      ]
     },
     "metadata": {},
     "output_type": "display_data"
    },
    {
     "data": {
      "image/png": "[encoded data removed]",
      "text/plain": [
       "<Figure size 1008x288 with 1 Axes>"
      ]
     },
     "metadata": {},
     "output_type": "display_data"
    },
    {
     "data": {
      "image/png": "[encoded data removed]",
      "text/plain": [
       "<Figure size 1008x288 with 1 Axes>"
      ]
     },
     "metadata": {},
     "output_type": "display_data"
    },
    {
     "data": {
      "image/png": "[encoded data removed]",
      "text/plain": [
       "<Figure size 1008x288 with 1 Axes>"
      ]
     },
     "metadata": {},
     "output_type": "display_data"
    },
    {
     "data": {
      "image/png": "[encoded data removed]",
      "text/plain": [
       "<Figure size 1008x288 with 1 Axes>"
      ]
     },
     "metadata": {},
     "output_type": "display_data"
    },
    {
     "data": {
      "image/png": "[encoded data removed]",
      "text/plain": [
       "<Figure size 1008x288 with 1 Axes>"
      ]
     },
     "metadata": {},
     "output_type": "display_data"
    },
    {
     "data": {
      "image/png": "[encoded data removed]",
      "text/plain": [
       "<Figure size 1008x288 with 1 Axes>"
      ]
     },
     "metadata": {},
     "output_type": "display_data"
    },
    {
     "data": {
      "image/png": "[encoded data removed]",
      "text/plain": [
       "<Figure size 1008x288 with 1 Axes>"
      ]
     },
     "metadata": {},
     "output_type": "display_data"
    },
    {
     "data": {
      "image/png": "[encoded data removed]",
      "text/plain": [
       "<Figure size 1008x288 with 1 Axes>"
      ]
     },
     "metadata": {},
     "output_type": "display_data"
    },
    {
     "data": {
      "image/png": "[encoded data removed]",
      "text/plain": [
       "<Figure size 1008x288 with 1 Axes>"
      ]
     },
     "metadata": {},
     "output_type": "display_data"
    },
    {
     "data": {
      "image/png": "[encoded data removed]",
      "text/plain": [
       "<Figure size 1008x288 with 1 Axes>"
      ]
     },
     "metadata": {},
     "output_type": "display_data"
    },
    {
     "data": {
      "image/png": "[encoded data removed]",
      "text/plain": [
       "<Figure size 1008x288 with 1 Axes>"
      ]
     },
     "metadata": {},
     "output_type": "display_data"
    },
    {
     "data": {
      "image/png": "[encoded data removed]",
      "text/plain": [
       "<Figure size 1008x288 with 1 Axes>"
      ]
     },
     "metadata": {},
     "output_type": "display_data"
    },
    {
     "data": {
      "image/png": "[encoded data removed]",
      "text/plain": [
       "<Figure size 1008x288 with 1 Axes>"
      ]
     },
     "metadata": {},
     "output_type": "display_data"
    },
    {
     "data": {
      "image/png": "[encoded data removed]",
      "text/plain": [
       "<Figure size 1008x288 with 1 Axes>"
      ]
     },
     "metadata": {},
     "output_type": "display_data"
    },
    {
     "data": {
      "image/png": "[encoded data removed]",
      "text/plain": [
       "<Figure size 1008x288 with 1 Axes>"
      ]
     },
     "metadata": {},
     "output_type": "display_data"
    },
    {
     "data": {
      "image/png": "[encoded data removed]",
      "text/plain": [
       "<Figure size 1008x288 with 1 Axes>"
      ]
     },
     "metadata": {},
     "output_type": "display_data"
    },
    {
     "data": {
      "image/png": "[encoded data removed]",
      "text/plain": [
       "<Figure size 1008x288 with 1 Axes>"
      ]
     },
     "metadata": {},
     "output_type": "display_data"
    }
   ],
   "source": [
    "for col in nominal_list:\n",
    "    get_boxplot(col)"
   ]
  },
  {
   "cell_type": "markdown",
   "metadata": {},
   "source": [
    "Судя по графикам medu, failures, studytime и schoolsup влияют на score. Проверим, есть ли статистическая разница в распределении оценок по номинативным признакам, с помощью теста Стьюдента. Проверим нулевую гипотезу о том, что распределения балов на экзамене по различным параметрам неразличимы."
   ]
  },
  {
   "cell_type": "code",
   "execution_count": 353,
   "metadata": {},
   "outputs": [
    {
     "name": "stdout",
     "output_type": "stream",
     "text": [
      "Найдены статистически значимые различия для колонки medu\n",
      "Найдены статистически значимые различия для колонки fjob\n",
      "Найдены статистически значимые различия для колонки guardian\n",
      "Найдены статистически значимые различия для колонки studytime\n",
      "Найдены статистически значимые различия для колонки failures\n",
      "Найдены статистически значимые различия для колонки schoolsup\n",
      "Найдены статистически значимые различия для колонки goout\n"
     ]
    }
   ],
   "source": [
    "for col in nominal_list:\n",
    "    get_stat_dif(col)"
   ]
  },
  {
   "cell_type": "markdown",
   "metadata": {},
   "source": [
    "Как мы видим, серьёзно отличаются паремтры в переменных: medu,  fjob, guardian, studytime, failures, schoolsup, goout. Оставим эти переменные в датасете для дальнейшего построения модели. Итак, в нашем случае важные переменные, которые, возможно, оказывают влияние на оценку, это: medu,  fjob, guardian, studytime, failures, schoolsup, goout, age, absences."
   ]
  },
  {
   "cell_type": "code",
   "execution_count": 354,
   "metadata": {},
   "outputs": [],
   "source": [
    "stud_for_model = stud_math[['medu', 'fjob', 'guardian',\n",
    "                            'studytime', 'failures', 'schoolsup',\n",
    "                            'goout', 'age', 'absences']]"
   ]
  },
  {
   "cell_type": "code",
   "execution_count": 355,
   "metadata": {},
   "outputs": [
    {
     "data": {
      "text/html": [
       "<div>\n",
       "<style scoped>\n",
       "    .dataframe tbody tr th:only-of-type {\n",
       "        vertical-align: middle;\n",
       "    }\n",
       "\n",
       "    .dataframe tbody tr th {\n",
       "        vertical-align: top;\n",
       "    }\n",
       "\n",
       "    .dataframe thead th {\n",
       "        text-align: right;\n",
       "    }\n",
       "</style>\n",
       "<table border=\"1\" class=\"dataframe\">\n",
       "  <thead>\n",
       "    <tr style=\"text-align: right;\">\n",
       "      <th></th>\n",
       "      <th>medu</th>\n",
       "      <th>fjob</th>\n",
       "      <th>guardian</th>\n",
       "      <th>studytime</th>\n",
       "      <th>failures</th>\n",
       "      <th>schoolsup</th>\n",
       "      <th>goout</th>\n",
       "      <th>age</th>\n",
       "      <th>absences</th>\n",
       "    </tr>\n",
       "  </thead>\n",
       "  <tbody>\n",
       "    <tr>\n",
       "      <th>0</th>\n",
       "      <td>4.0</td>\n",
       "      <td>teacher</td>\n",
       "      <td>mother</td>\n",
       "      <td>2.0</td>\n",
       "      <td>0.0</td>\n",
       "      <td>yes</td>\n",
       "      <td>4.0</td>\n",
       "      <td>18</td>\n",
       "      <td>6.0</td>\n",
       "    </tr>\n",
       "    <tr>\n",
       "      <th>1</th>\n",
       "      <td>1.0</td>\n",
       "      <td>other</td>\n",
       "      <td>father</td>\n",
       "      <td>2.0</td>\n",
       "      <td>0.0</td>\n",
       "      <td>no</td>\n",
       "      <td>3.0</td>\n",
       "      <td>17</td>\n",
       "      <td>4.0</td>\n",
       "    </tr>\n",
       "    <tr>\n",
       "      <th>2</th>\n",
       "      <td>1.0</td>\n",
       "      <td>other</td>\n",
       "      <td>mother</td>\n",
       "      <td>2.0</td>\n",
       "      <td>3.0</td>\n",
       "      <td>yes</td>\n",
       "      <td>2.0</td>\n",
       "      <td>15</td>\n",
       "      <td>10.0</td>\n",
       "    </tr>\n",
       "    <tr>\n",
       "      <th>3</th>\n",
       "      <td>4.0</td>\n",
       "      <td>other</td>\n",
       "      <td>mother</td>\n",
       "      <td>3.0</td>\n",
       "      <td>0.0</td>\n",
       "      <td>no</td>\n",
       "      <td>2.0</td>\n",
       "      <td>15</td>\n",
       "      <td>2.0</td>\n",
       "    </tr>\n",
       "    <tr>\n",
       "      <th>4</th>\n",
       "      <td>3.0</td>\n",
       "      <td>other</td>\n",
       "      <td>father</td>\n",
       "      <td>2.0</td>\n",
       "      <td>0.0</td>\n",
       "      <td>no</td>\n",
       "      <td>2.0</td>\n",
       "      <td>16</td>\n",
       "      <td>4.0</td>\n",
       "    </tr>\n",
       "  </tbody>\n",
       "</table>\n",
       "</div>"
      ],
      "text/plain": [
       "   medu     fjob guardian  studytime  failures schoolsup  goout  age  absences\n",
       "0   4.0  teacher   mother        2.0       0.0       yes    4.0   18       6.0\n",
       "1   1.0    other   father        2.0       0.0        no    3.0   17       4.0\n",
       "2   1.0    other   mother        2.0       3.0       yes    2.0   15      10.0\n",
       "3   4.0    other   mother        3.0       0.0        no    2.0   15       2.0\n",
       "4   3.0    other   father        2.0       0.0        no    2.0   16       4.0"
      ]
     },
     "execution_count": 355,
     "metadata": {},
     "output_type": "execute_result"
    }
   ],
   "source": [
    "stud_for_model.head()"
   ]
  },
  {
   "cell_type": "markdown",
   "metadata": {},
   "source": [
    "Мы заполнили все пропуски, оставили большую часть данных и отобрали значимы переменные для обучения модели. "
   ]
  }
 ],
 "metadata": {
  "kernelspec": {
   "display_name": "Python 3",
   "language": "python",
   "name": "python3"
  },
  "language_info": {
   "codemirror_mode": {
    "name": "ipython",
    "version": 3
   },
   "file_extension": ".py",
   "mimetype": "text/x-python",
   "name": "python",
   "nbconvert_exporter": "python",
   "pygments_lexer": "ipython3",
   "version": "3.8.5"
  }
 },
 "nbformat": 4,
 "nbformat_minor": 4
}
