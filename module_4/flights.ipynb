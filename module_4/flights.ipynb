{
 "cells": [
  {
   "cell_type": "code",
   "execution_count": 34,
   "metadata": {},
   "outputs": [],
   "source": [
    "import pandas as pd\n",
    "import matplotlib.pyplot as plt\n",
    "import seaborn as sns\n",
    "sns.set()\n",
    "# %config InlineBackend.figure_format = 'svg'\n",
    "\n",
    "pd.set_option('display.max_columns', 50)"
   ]
  },
  {
   "cell_type": "code",
   "execution_count": 35,
   "metadata": {},
   "outputs": [],
   "source": [
    "df = pd.read_csv('flights.csv')\n",
    "df.dropna(inplace=True) #удалим рейсы, по которым нет купленных билетов"
   ]
  },
  {
   "cell_type": "code",
   "execution_count": 36,
   "metadata": {},
   "outputs": [
    {
     "data": {
      "text/html": [
       "<div>\n",
       "<style scoped>\n",
       "    .dataframe tbody tr th:only-of-type {\n",
       "        vertical-align: middle;\n",
       "    }\n",
       "\n",
       "    .dataframe tbody tr th {\n",
       "        vertical-align: top;\n",
       "    }\n",
       "\n",
       "    .dataframe thead th {\n",
       "        text-align: right;\n",
       "    }\n",
       "</style>\n",
       "<table border=\"1\" class=\"dataframe\">\n",
       "  <thead>\n",
       "    <tr style=\"text-align: right;\">\n",
       "      <th></th>\n",
       "      <th>flight_id</th>\n",
       "      <th>flight_no</th>\n",
       "      <th>arrival_airport</th>\n",
       "      <th>city</th>\n",
       "      <th>actual_departure</th>\n",
       "      <th>actual_arrival</th>\n",
       "      <th>flight_time</th>\n",
       "      <th>model</th>\n",
       "      <th>fuel_consum_kg_hr</th>\n",
       "      <th>seat_economy</th>\n",
       "      <th>seat_bisiness</th>\n",
       "      <th>seat_total</th>\n",
       "      <th>sold_economy</th>\n",
       "      <th>sold_bisiness</th>\n",
       "      <th>sold_total</th>\n",
       "      <th>amount_economy</th>\n",
       "      <th>amount_bisiness</th>\n",
       "      <th>amount_total</th>\n",
       "    </tr>\n",
       "  </thead>\n",
       "  <tbody>\n",
       "    <tr>\n",
       "      <th>0</th>\n",
       "      <td>136119</td>\n",
       "      <td>PG0252</td>\n",
       "      <td>SVO</td>\n",
       "      <td>Moscow</td>\n",
       "      <td>2017-01-03 10:08:00.000000</td>\n",
       "      <td>2017-01-03 11:49:00.000000</td>\n",
       "      <td>101</td>\n",
       "      <td>Boeing 737-300</td>\n",
       "      <td>2400</td>\n",
       "      <td>118</td>\n",
       "      <td>12</td>\n",
       "      <td>130</td>\n",
       "      <td>102.0</td>\n",
       "      <td>11.0</td>\n",
       "      <td>113.0</td>\n",
       "      <td>1250400.0</td>\n",
       "      <td>402600.0</td>\n",
       "      <td>1653000.0</td>\n",
       "    </tr>\n",
       "    <tr>\n",
       "      <th>1</th>\n",
       "      <td>136120</td>\n",
       "      <td>PG0252</td>\n",
       "      <td>SVO</td>\n",
       "      <td>Moscow</td>\n",
       "      <td>2017-02-24 10:07:00.000000</td>\n",
       "      <td>2017-02-24 11:46:00.000000</td>\n",
       "      <td>99</td>\n",
       "      <td>Boeing 737-300</td>\n",
       "      <td>2400</td>\n",
       "      <td>118</td>\n",
       "      <td>12</td>\n",
       "      <td>130</td>\n",
       "      <td>98.0</td>\n",
       "      <td>11.0</td>\n",
       "      <td>109.0</td>\n",
       "      <td>1202800.0</td>\n",
       "      <td>402600.0</td>\n",
       "      <td>1605400.0</td>\n",
       "    </tr>\n",
       "    <tr>\n",
       "      <th>2</th>\n",
       "      <td>136122</td>\n",
       "      <td>PG0252</td>\n",
       "      <td>SVO</td>\n",
       "      <td>Moscow</td>\n",
       "      <td>2017-01-08 10:08:00.000000</td>\n",
       "      <td>2017-01-08 11:48:00.000000</td>\n",
       "      <td>100</td>\n",
       "      <td>Boeing 737-300</td>\n",
       "      <td>2400</td>\n",
       "      <td>118</td>\n",
       "      <td>12</td>\n",
       "      <td>130</td>\n",
       "      <td>87.0</td>\n",
       "      <td>10.0</td>\n",
       "      <td>97.0</td>\n",
       "      <td>1065000.0</td>\n",
       "      <td>366000.0</td>\n",
       "      <td>1431000.0</td>\n",
       "    </tr>\n",
       "    <tr>\n",
       "      <th>3</th>\n",
       "      <td>136130</td>\n",
       "      <td>PG0252</td>\n",
       "      <td>SVO</td>\n",
       "      <td>Moscow</td>\n",
       "      <td>2017-02-13 10:07:00.000000</td>\n",
       "      <td>2017-02-13 11:46:00.000000</td>\n",
       "      <td>99</td>\n",
       "      <td>Boeing 737-300</td>\n",
       "      <td>2400</td>\n",
       "      <td>118</td>\n",
       "      <td>12</td>\n",
       "      <td>130</td>\n",
       "      <td>97.0</td>\n",
       "      <td>10.0</td>\n",
       "      <td>107.0</td>\n",
       "      <td>1190600.0</td>\n",
       "      <td>366000.0</td>\n",
       "      <td>1556600.0</td>\n",
       "    </tr>\n",
       "    <tr>\n",
       "      <th>4</th>\n",
       "      <td>136131</td>\n",
       "      <td>PG0252</td>\n",
       "      <td>SVO</td>\n",
       "      <td>Moscow</td>\n",
       "      <td>2017-01-28 10:07:00.000000</td>\n",
       "      <td>2017-01-28 11:46:00.000000</td>\n",
       "      <td>99</td>\n",
       "      <td>Boeing 737-300</td>\n",
       "      <td>2400</td>\n",
       "      <td>118</td>\n",
       "      <td>12</td>\n",
       "      <td>130</td>\n",
       "      <td>112.0</td>\n",
       "      <td>12.0</td>\n",
       "      <td>124.0</td>\n",
       "      <td>1373600.0</td>\n",
       "      <td>439200.0</td>\n",
       "      <td>1812800.0</td>\n",
       "    </tr>\n",
       "  </tbody>\n",
       "</table>\n",
       "</div>"
      ],
      "text/plain": [
       "   flight_id flight_no arrival_airport    city            actual_departure  \\\n",
       "0     136119    PG0252             SVO  Moscow  2017-01-03 10:08:00.000000   \n",
       "1     136120    PG0252             SVO  Moscow  2017-02-24 10:07:00.000000   \n",
       "2     136122    PG0252             SVO  Moscow  2017-01-08 10:08:00.000000   \n",
       "3     136130    PG0252             SVO  Moscow  2017-02-13 10:07:00.000000   \n",
       "4     136131    PG0252             SVO  Moscow  2017-01-28 10:07:00.000000   \n",
       "\n",
       "               actual_arrival  flight_time           model  fuel_consum_kg_hr  \\\n",
       "0  2017-01-03 11:49:00.000000          101  Boeing 737-300               2400   \n",
       "1  2017-02-24 11:46:00.000000           99  Boeing 737-300               2400   \n",
       "2  2017-01-08 11:48:00.000000          100  Boeing 737-300               2400   \n",
       "3  2017-02-13 11:46:00.000000           99  Boeing 737-300               2400   \n",
       "4  2017-01-28 11:46:00.000000           99  Boeing 737-300               2400   \n",
       "\n",
       "   seat_economy  seat_bisiness  seat_total  sold_economy  sold_bisiness  \\\n",
       "0           118             12         130         102.0           11.0   \n",
       "1           118             12         130          98.0           11.0   \n",
       "2           118             12         130          87.0           10.0   \n",
       "3           118             12         130          97.0           10.0   \n",
       "4           118             12         130         112.0           12.0   \n",
       "\n",
       "   sold_total  amount_economy  amount_bisiness  amount_total  \n",
       "0       113.0       1250400.0         402600.0     1653000.0  \n",
       "1       109.0       1202800.0         402600.0     1605400.0  \n",
       "2        97.0       1065000.0         366000.0     1431000.0  \n",
       "3       107.0       1190600.0         366000.0     1556600.0  \n",
       "4       124.0       1373600.0         439200.0     1812800.0  "
      ]
     },
     "execution_count": 36,
     "metadata": {},
     "output_type": "execute_result"
    }
   ],
   "source": [
    "df.head()"
   ]
  },
  {
   "cell_type": "code",
   "execution_count": 37,
   "metadata": {},
   "outputs": [
    {
     "name": "stdout",
     "output_type": "stream",
     "text": [
      "<class 'pandas.core.frame.DataFrame'>\n",
      "Int64Index: 118 entries, 0 to 117\n",
      "Data columns (total 18 columns):\n",
      " #   Column             Non-Null Count  Dtype  \n",
      "---  ------             --------------  -----  \n",
      " 0   flight_id          118 non-null    int64  \n",
      " 1   flight_no          118 non-null    object \n",
      " 2   arrival_airport    118 non-null    object \n",
      " 3   city               118 non-null    object \n",
      " 4   actual_departure   118 non-null    object \n",
      " 5   actual_arrival     118 non-null    object \n",
      " 6   flight_time        118 non-null    int64  \n",
      " 7   model              118 non-null    object \n",
      " 8   fuel_consum_kg_hr  118 non-null    int64  \n",
      " 9   seat_economy       118 non-null    int64  \n",
      " 10  seat_bisiness      118 non-null    int64  \n",
      " 11  seat_total         118 non-null    int64  \n",
      " 12  sold_economy       118 non-null    float64\n",
      " 13  sold_bisiness      118 non-null    float64\n",
      " 14  sold_total         118 non-null    float64\n",
      " 15  amount_economy     118 non-null    float64\n",
      " 16  amount_bisiness    118 non-null    float64\n",
      " 17  amount_total       118 non-null    float64\n",
      "dtypes: float64(6), int64(6), object(6)\n",
      "memory usage: 14.8+ KB\n"
     ]
    }
   ],
   "source": [
    "df.info()"
   ]
  },
  {
   "cell_type": "markdown",
   "metadata": {},
   "source": [
    "Переведем даты в формат datetime"
   ]
  },
  {
   "cell_type": "code",
   "execution_count": 38,
   "metadata": {},
   "outputs": [],
   "source": [
    "df.actual_departure = pd.to_datetime(df.actual_departure)\n",
    "df.actual_arrival = pd.to_datetime(df.actual_arrival)"
   ]
  },
  {
   "cell_type": "markdown",
   "metadata": {},
   "source": [
    "Переведем время полета в часы"
   ]
  },
  {
   "cell_type": "code",
   "execution_count": 39,
   "metadata": {},
   "outputs": [],
   "source": [
    "df.flight_time = df.flight_time / 60"
   ]
  },
  {
   "cell_type": "markdown",
   "metadata": {},
   "source": [
    "Создадим признак расход топлива и затраты на топливо ( цена 1кг авиатовлива = 41.5 без НДС зима 2017) \n",
    "\n",
    "https://favt.gov.ru/stat-date-gsm-price/"
   ]
  },
  {
   "cell_type": "code",
   "execution_count": 40,
   "metadata": {},
   "outputs": [],
   "source": [
    "df['fuel_spent'] = df.flight_time * df.fuel_consum_kg_hr "
   ]
  },
  {
   "cell_type": "code",
   "execution_count": 41,
   "metadata": {},
   "outputs": [],
   "source": [
    "df['fuel_cost'] = df.fuel_spent * (41.5*1.18)"
   ]
  },
  {
   "cell_type": "markdown",
   "metadata": {},
   "source": [
    "Создадим признак прибыль с вычетом затрат на топливо"
   ]
  },
  {
   "cell_type": "code",
   "execution_count": 42,
   "metadata": {},
   "outputs": [],
   "source": [
    "df['profit'] =  df.amount_total - df.fuel_cost\n",
    "df.profit = df.profit.astype('int64')"
   ]
  },
  {
   "cell_type": "markdown",
   "metadata": {},
   "source": [
    "Посчитаем загруженость рейсов в процентах"
   ]
  },
  {
   "cell_type": "code",
   "execution_count": 43,
   "metadata": {},
   "outputs": [],
   "source": [
    "df['seats_percent'] = df.sold_total / df.seat_total"
   ]
  },
  {
   "cell_type": "code",
   "execution_count": 44,
   "metadata": {
    "scrolled": true
   },
   "outputs": [
    {
     "data": {
      "text/html": [
       "<div>\n",
       "<style scoped>\n",
       "    .dataframe tbody tr th:only-of-type {\n",
       "        vertical-align: middle;\n",
       "    }\n",
       "\n",
       "    .dataframe tbody tr th {\n",
       "        vertical-align: top;\n",
       "    }\n",
       "\n",
       "    .dataframe thead th {\n",
       "        text-align: right;\n",
       "    }\n",
       "</style>\n",
       "<table border=\"1\" class=\"dataframe\">\n",
       "  <thead>\n",
       "    <tr style=\"text-align: right;\">\n",
       "      <th></th>\n",
       "      <th>flight_id</th>\n",
       "      <th>flight_no</th>\n",
       "      <th>arrival_airport</th>\n",
       "      <th>city</th>\n",
       "      <th>actual_departure</th>\n",
       "      <th>actual_arrival</th>\n",
       "      <th>flight_time</th>\n",
       "      <th>model</th>\n",
       "      <th>fuel_consum_kg_hr</th>\n",
       "      <th>seat_economy</th>\n",
       "      <th>seat_bisiness</th>\n",
       "      <th>seat_total</th>\n",
       "      <th>sold_economy</th>\n",
       "      <th>sold_bisiness</th>\n",
       "      <th>sold_total</th>\n",
       "      <th>amount_economy</th>\n",
       "      <th>amount_bisiness</th>\n",
       "      <th>amount_total</th>\n",
       "      <th>fuel_spent</th>\n",
       "      <th>fuel_cost</th>\n",
       "      <th>profit</th>\n",
       "      <th>seats_percent</th>\n",
       "    </tr>\n",
       "  </thead>\n",
       "  <tbody>\n",
       "    <tr>\n",
       "      <th>2</th>\n",
       "      <td>136122</td>\n",
       "      <td>PG0252</td>\n",
       "      <td>SVO</td>\n",
       "      <td>Moscow</td>\n",
       "      <td>2017-01-08 10:08:00</td>\n",
       "      <td>2017-01-08 11:48:00</td>\n",
       "      <td>1.666667</td>\n",
       "      <td>Boeing 737-300</td>\n",
       "      <td>2400</td>\n",
       "      <td>118</td>\n",
       "      <td>12</td>\n",
       "      <td>130</td>\n",
       "      <td>87.0</td>\n",
       "      <td>10.0</td>\n",
       "      <td>97.0</td>\n",
       "      <td>1065000.0</td>\n",
       "      <td>366000.0</td>\n",
       "      <td>1431000.0</td>\n",
       "      <td>4000.000000</td>\n",
       "      <td>195880.000000</td>\n",
       "      <td>1235120</td>\n",
       "      <td>0.746154</td>\n",
       "    </tr>\n",
       "    <tr>\n",
       "      <th>38</th>\n",
       "      <td>136360</td>\n",
       "      <td>PG0252</td>\n",
       "      <td>SVO</td>\n",
       "      <td>Moscow</td>\n",
       "      <td>2017-02-05 10:08:00</td>\n",
       "      <td>2017-02-05 11:48:00</td>\n",
       "      <td>1.666667</td>\n",
       "      <td>Boeing 737-300</td>\n",
       "      <td>2400</td>\n",
       "      <td>118</td>\n",
       "      <td>12</td>\n",
       "      <td>130</td>\n",
       "      <td>86.0</td>\n",
       "      <td>11.0</td>\n",
       "      <td>97.0</td>\n",
       "      <td>1052800.0</td>\n",
       "      <td>402600.0</td>\n",
       "      <td>1455400.0</td>\n",
       "      <td>4000.000000</td>\n",
       "      <td>195880.000000</td>\n",
       "      <td>1259520</td>\n",
       "      <td>0.746154</td>\n",
       "    </tr>\n",
       "    <tr>\n",
       "      <th>68</th>\n",
       "      <td>136642</td>\n",
       "      <td>PG0480</td>\n",
       "      <td>EGO</td>\n",
       "      <td>Belgorod</td>\n",
       "      <td>2017-01-30 09:28:00</td>\n",
       "      <td>2017-01-30 10:17:00</td>\n",
       "      <td>0.816667</td>\n",
       "      <td>Sukhoi Superjet-100</td>\n",
       "      <td>1700</td>\n",
       "      <td>85</td>\n",
       "      <td>12</td>\n",
       "      <td>97</td>\n",
       "      <td>54.0</td>\n",
       "      <td>10.0</td>\n",
       "      <td>64.0</td>\n",
       "      <td>342000.0</td>\n",
       "      <td>189000.0</td>\n",
       "      <td>531000.0</td>\n",
       "      <td>1388.333333</td>\n",
       "      <td>67986.683333</td>\n",
       "      <td>463013</td>\n",
       "      <td>0.659794</td>\n",
       "    </tr>\n",
       "    <tr>\n",
       "      <th>93</th>\n",
       "      <td>136807</td>\n",
       "      <td>PG0480</td>\n",
       "      <td>EGO</td>\n",
       "      <td>Belgorod</td>\n",
       "      <td>2017-02-23 09:28:00</td>\n",
       "      <td>2017-02-23 10:18:00</td>\n",
       "      <td>0.833333</td>\n",
       "      <td>Sukhoi Superjet-100</td>\n",
       "      <td>1700</td>\n",
       "      <td>85</td>\n",
       "      <td>12</td>\n",
       "      <td>97</td>\n",
       "      <td>60.0</td>\n",
       "      <td>8.0</td>\n",
       "      <td>68.0</td>\n",
       "      <td>379800.0</td>\n",
       "      <td>151200.0</td>\n",
       "      <td>531000.0</td>\n",
       "      <td>1416.666667</td>\n",
       "      <td>69374.166667</td>\n",
       "      <td>461625</td>\n",
       "      <td>0.701031</td>\n",
       "    </tr>\n",
       "  </tbody>\n",
       "</table>\n",
       "</div>"
      ],
      "text/plain": [
       "    flight_id flight_no arrival_airport      city    actual_departure  \\\n",
       "2      136122    PG0252             SVO    Moscow 2017-01-08 10:08:00   \n",
       "38     136360    PG0252             SVO    Moscow 2017-02-05 10:08:00   \n",
       "68     136642    PG0480             EGO  Belgorod 2017-01-30 09:28:00   \n",
       "93     136807    PG0480             EGO  Belgorod 2017-02-23 09:28:00   \n",
       "\n",
       "        actual_arrival  flight_time                model  fuel_consum_kg_hr  \\\n",
       "2  2017-01-08 11:48:00     1.666667       Boeing 737-300               2400   \n",
       "38 2017-02-05 11:48:00     1.666667       Boeing 737-300               2400   \n",
       "68 2017-01-30 10:17:00     0.816667  Sukhoi Superjet-100               1700   \n",
       "93 2017-02-23 10:18:00     0.833333  Sukhoi Superjet-100               1700   \n",
       "\n",
       "    seat_economy  seat_bisiness  seat_total  sold_economy  sold_bisiness  \\\n",
       "2            118             12         130          87.0           10.0   \n",
       "38           118             12         130          86.0           11.0   \n",
       "68            85             12          97          54.0           10.0   \n",
       "93            85             12          97          60.0            8.0   \n",
       "\n",
       "    sold_total  amount_economy  amount_bisiness  amount_total   fuel_spent  \\\n",
       "2         97.0       1065000.0         366000.0     1431000.0  4000.000000   \n",
       "38        97.0       1052800.0         402600.0     1455400.0  4000.000000   \n",
       "68        64.0        342000.0         189000.0      531000.0  1388.333333   \n",
       "93        68.0        379800.0         151200.0      531000.0  1416.666667   \n",
       "\n",
       "        fuel_cost   profit  seats_percent  \n",
       "2   195880.000000  1235120       0.746154  \n",
       "38  195880.000000  1259520       0.746154  \n",
       "68   67986.683333   463013       0.659794  \n",
       "93   69374.166667   461625       0.701031  "
      ]
     },
     "execution_count": 44,
     "metadata": {},
     "output_type": "execute_result"
    }
   ],
   "source": [
    "df[df.seats_percent < 0.75]"
   ]
  },
  {
   "cell_type": "markdown",
   "metadata": {},
   "source": [
    "Посмотрим направления по всем рейсам и разберем каждое в отдельности"
   ]
  },
  {
   "cell_type": "code",
   "execution_count": 45,
   "metadata": {},
   "outputs": [
    {
     "data": {
      "text/plain": [
       "array(['PG0252', 'PG0480'], dtype=object)"
      ]
     },
     "execution_count": 45,
     "metadata": {},
     "output_type": "execute_result"
    }
   ],
   "source": [
    "df.flight_no.unique()"
   ]
  },
  {
   "cell_type": "code",
   "execution_count": 46,
   "metadata": {},
   "outputs": [],
   "source": [
    "df_amount_stat = df.groupby('flight_no').amount_total.agg(['min', 'mean', 'max']).astype('int64').reset_index()"
   ]
  },
  {
   "cell_type": "code",
   "execution_count": 47,
   "metadata": {},
   "outputs": [
    {
     "data": {
      "image/png": "[encoded data removed]",
      "text/plain": [
       "<Figure size 720x576 with 1 Axes>"
      ]
     },
     "metadata": {},
     "output_type": "display_data"
    }
   ],
   "source": [
    "fig, ax = plt.subplots(figsize=(10,8))\n",
    "sns.set_color_codes('pastel')\n",
    "sns.barplot(x='flight_no', y='max', data=df_amount_stat,color = 'b', label = 'max')\n",
    "sns.set_color_codes('muted')\n",
    "sns.barplot(x='flight_no', y='mean', data=df_amount_stat, color = 'b', label = 'mean')\n",
    "sns.set_color_codes('deep')\n",
    "sns.barplot(x='flight_no', y='min', data=df_amount_stat, color = 'b', label = 'min')\n",
    "ax.legend(loc = 1)\n",
    "plt.ylabel(None)\n",
    "ax.set_title('Прибыль с продажи билетов',fontsize= 14)\n",
    "ax.set_xlabel('Направления')\n",
    "ax.set_ylabel('Прибыль млн. руб');\n",
    "# fig.savefig('Прибыль с продажи билетов.svg')"
   ]
  },
  {
   "cell_type": "markdown",
   "metadata": {},
   "source": [
    "Посмотрим на заполненость рейсов"
   ]
  },
  {
   "cell_type": "code",
   "execution_count": 48,
   "metadata": {},
   "outputs": [],
   "source": [
    "df_seats_stat = df.groupby('flight_no').sold_total.agg(['min', 'mean', 'max']).astype('int64').reset_index()"
   ]
  },
  {
   "cell_type": "code",
   "execution_count": 49,
   "metadata": {},
   "outputs": [
    {
     "data": {
      "image/png": "[encoded data removed]",
      "text/plain": [
       "<Figure size 720x576 with 1 Axes>"
      ]
     },
     "metadata": {},
     "output_type": "display_data"
    }
   ],
   "source": [
    "fig, ax = plt.subplots(figsize=(10,8))\n",
    "sns.set_color_codes('pastel')\n",
    "sns.barplot(x='flight_no', y='max', data=df_seats_stat,color = 'b', label = 'max')\n",
    "sns.set_color_codes('muted')\n",
    "sns.barplot(x='flight_no', y='mean', data=df_seats_stat, color = 'b', label = 'mean')\n",
    "sns.set_color_codes('deep')\n",
    "sns.barplot(x='flight_no', y='min', data=df_seats_stat, color = 'b', label = 'min')\n",
    "ax.legend(loc = 1)\n",
    "plt.ylabel(None)\n",
    "ax.set_title('Количество проданных билетов',fontsize= 14)\n",
    "ax.set_xlabel('Направления');\n",
    "# fig.savefig('Количество проданных билетов.svg')"
   ]
  },
  {
   "cell_type": "code",
   "execution_count": 50,
   "metadata": {},
   "outputs": [],
   "source": [
    "# метки в виде текста\n",
    "def label_point(x, y, val, ax):\n",
    "    a = pd.concat({'x': x, 'y': y, 'val': val}, axis=1)\n",
    "    for i, point in a.iterrows():\n",
    "        ax.text(point['x']+.02, point['y'], str(point['val']))"
   ]
  },
  {
   "cell_type": "markdown",
   "metadata": {},
   "source": [
    "Посмотрим на прибыль относительно заполнености самолета. Неприбыльными будем считать самолеты с заполненостью <= 0.75 и создадим список рейсов с такими показателями.\n",
    "https://www.kommersant.ru/doc/3246832"
   ]
  },
  {
   "cell_type": "code",
   "execution_count": 51,
   "metadata": {},
   "outputs": [
    {
     "data": {
      "text/plain": [
       "[136122, 136360, 136642, 136807]"
      ]
     },
     "execution_count": 51,
     "metadata": {},
     "output_type": "execute_result"
    }
   ],
   "source": [
    "flight_unprofit1 = list(df[df.seats_percent < 0.75].flight_id)\n",
    "flight_unprofit1"
   ]
  },
  {
   "cell_type": "code",
   "execution_count": 52,
   "metadata": {},
   "outputs": [
    {
     "data": {
      "image/png": "[encoded data removed]",
      "text/plain": [
       "<Figure size 720x576 with 1 Axes>"
      ]
     },
     "metadata": {},
     "output_type": "display_data"
    }
   ],
   "source": [
    "df1 = df[df.seats_percent > 0.75]\n",
    "df2 = df[df.seats_percent <= 0.75]\n",
    "\n",
    "fig, ax = plt.subplots(figsize=(10, 8))\n",
    "sns.scatterplot(x='profit', y='seats_percent', data=df1,\n",
    "                hue='flight_no', s=150, palette=\"deep\")\n",
    "sns.scatterplot(x='profit', y='seats_percent', data=df2,\n",
    "                hue='flight_no', s=150, palette=\"pastel\")\n",
    "sns.set_color_codes('pastel')\n",
    "plt.axhline(0.75, linestyle=':')\n",
    "ax.legend(loc=4)\n",
    "ax.set_title(\n",
    "    'Зависимость прибыли за вычетом цен на топливо от заполненности самолета', fontsize=14)\n",
    "ax.set_xlabel('Прибыль млн. руб')\n",
    "ax.set_ylabel('Заполненность')\n",
    "\n",
    "label_point(df2.profit,\n",
    "            df2.seats_percent,\n",
    "            df2.flight_id,\n",
    "            plt.gca())\n",
    "# fig.savefig('Прибыльность по заполнености.svg')"
   ]
  },
  {
   "cell_type": "markdown",
   "metadata": {},
   "source": [
    "Найдем, для каждого направления с низкой заполненостью, границу, после которой рейсы считаются неприбыльными. Создадим список таких рейсов."
   ]
  },
  {
   "cell_type": "code",
   "execution_count": 53,
   "metadata": {},
   "outputs": [],
   "source": [
    "max_unprofit_PG0480 =  df[(df.flight_no == 'PG0480') & (df.seats_percent <= 0.75)].profit.max()\n",
    "max_unprofit_PG0252 =  df[(df.flight_no == 'PG0252') & (df.seats_percent <= 0.75)].profit.max()"
   ]
  },
  {
   "cell_type": "code",
   "execution_count": 54,
   "metadata": {},
   "outputs": [
    {
     "data": {
      "image/png": "[encoded data removed]",
      "text/plain": [
       "<Figure size 720x576 with 1 Axes>"
      ]
     },
     "metadata": {},
     "output_type": "display_data"
    }
   ],
   "source": [
    "fig, ax = plt.subplots(figsize=(10, 8))\n",
    "sns.scatterplot(x='profit', y='seats_percent',\n",
    "                data=df1[df1.flight_no == 'PG0480'], s=150, color='#DD8452', palette=\"deep\")\n",
    "sns.scatterplot(x='profit', y='seats_percent',\n",
    "                data=df2[df2.flight_no == 'PG0480'], s=150, color='#FFB482', palette=\"pastel\")\n",
    "ax.axvline(max_unprofit_PG0480, linestyle=':')\n",
    "ax.set_title('Прибыльность рейсов для направления PG0480', fontsize= 14)\n",
    "ax.set_xlabel('Прибыль млн. руб')\n",
    "ax.set_ylabel('Заполненность');\n",
    "\n",
    "label_point(df2[df2.flight_no == 'PG0480'].profit,\n",
    "            df2[df2.flight_no == 'PG0480'].seats_percent,\n",
    "            df2[df2.flight_no == 'PG0480'].flight_id,\n",
    "            plt.gca())\n",
    "# fig.savefig('Прибыльность PG0480.svg')"
   ]
  },
  {
   "cell_type": "code",
   "execution_count": 55,
   "metadata": {},
   "outputs": [],
   "source": [
    "df3 = df[df.profit <= max_unprofit_PG0252]\n",
    "df4 = df[df.profit > max_unprofit_PG0252]"
   ]
  },
  {
   "cell_type": "code",
   "execution_count": 56,
   "metadata": {},
   "outputs": [
    {
     "data": {
      "image/png": "[encoded data removed]",
      "text/plain": [
       "<Figure size 720x576 with 1 Axes>"
      ]
     },
     "metadata": {},
     "output_type": "display_data"
    }
   ],
   "source": [
    "fig, ax = plt.subplots(figsize=(10, 8))\n",
    "sns.scatterplot(x='profit', y='seats_percent',\n",
    "                data=df4[df4.flight_no == 'PG0252'], s=150, color='#4C72B0', palette=\"deep\")\n",
    "sns.scatterplot(x='profit', y='seats_percent',\n",
    "                data=df3[df3.flight_no == 'PG0252'], s=150, color='#A1C9F4', palette=\"pastel\")\n",
    "ax.axvline(max_unprofit_PG0252, linestyle=':')\n",
    "ax.set_title('Прибыльность рейсов для направления PG0252', fontsize= 14)\n",
    "ax.set_xlabel('Прибыль млн. руб')\n",
    "ax.set_ylabel('Заполненность');\n",
    "\n",
    "label_point(df3[df3.flight_no == 'PG0252'].profit,\n",
    "            df3[df3.flight_no == 'PG0252'].seats_percent,\n",
    "            df3[df3.flight_no == 'PG0252'].flight_id,\n",
    "            plt.gca())  \n",
    "# fig.savefig('Прибыльность PG0252.svg')"
   ]
  },
  {
   "cell_type": "code",
   "execution_count": 57,
   "metadata": {},
   "outputs": [],
   "source": [
    "flight_unprofit2 = list(df3[df3.flight_no == 'PG0252'].flight_id)"
   ]
  },
  {
   "cell_type": "markdown",
   "metadata": {},
   "source": [
    "Мой прогноз неприбыльных рейсов"
   ]
  },
  {
   "cell_type": "code",
   "execution_count": 58,
   "metadata": {},
   "outputs": [],
   "source": [
    "flight_unprofit = set(flight_unprofit1 + flight_unprofit2)"
   ]
  },
  {
   "cell_type": "code",
   "execution_count": 59,
   "metadata": {},
   "outputs": [
    {
     "data": {
      "text/plain": [
       "{136122, 136178, 136250, 136360, 136464, 136642, 136807}"
      ]
     },
     "execution_count": 59,
     "metadata": {},
     "output_type": "execute_result"
    }
   ],
   "source": [
    "flight_unprofit"
   ]
  },
  {
   "cell_type": "code",
   "execution_count": 60,
   "metadata": {
    "scrolled": true
   },
   "outputs": [
    {
     "data": {
      "text/html": [
       "<div>\n",
       "<style scoped>\n",
       "    .dataframe tbody tr th:only-of-type {\n",
       "        vertical-align: middle;\n",
       "    }\n",
       "\n",
       "    .dataframe tbody tr th {\n",
       "        vertical-align: top;\n",
       "    }\n",
       "\n",
       "    .dataframe thead th {\n",
       "        text-align: right;\n",
       "    }\n",
       "</style>\n",
       "<table border=\"1\" class=\"dataframe\">\n",
       "  <thead>\n",
       "    <tr style=\"text-align: right;\">\n",
       "      <th></th>\n",
       "      <th>flight_id</th>\n",
       "      <th>flight_no</th>\n",
       "      <th>arrival_airport</th>\n",
       "      <th>city</th>\n",
       "      <th>actual_departure</th>\n",
       "      <th>actual_arrival</th>\n",
       "      <th>flight_time</th>\n",
       "      <th>model</th>\n",
       "      <th>fuel_consum_kg_hr</th>\n",
       "      <th>seat_economy</th>\n",
       "      <th>seat_bisiness</th>\n",
       "      <th>seat_total</th>\n",
       "      <th>sold_economy</th>\n",
       "      <th>sold_bisiness</th>\n",
       "      <th>sold_total</th>\n",
       "      <th>amount_economy</th>\n",
       "      <th>amount_bisiness</th>\n",
       "      <th>amount_total</th>\n",
       "      <th>fuel_spent</th>\n",
       "      <th>fuel_cost</th>\n",
       "      <th>profit</th>\n",
       "      <th>seats_percent</th>\n",
       "    </tr>\n",
       "  </thead>\n",
       "  <tbody>\n",
       "    <tr>\n",
       "      <th>2</th>\n",
       "      <td>136122</td>\n",
       "      <td>PG0252</td>\n",
       "      <td>SVO</td>\n",
       "      <td>Moscow</td>\n",
       "      <td>2017-01-08 10:08:00</td>\n",
       "      <td>2017-01-08 11:48:00</td>\n",
       "      <td>1.666667</td>\n",
       "      <td>Boeing 737-300</td>\n",
       "      <td>2400</td>\n",
       "      <td>118</td>\n",
       "      <td>12</td>\n",
       "      <td>130</td>\n",
       "      <td>87.0</td>\n",
       "      <td>10.0</td>\n",
       "      <td>97.0</td>\n",
       "      <td>1065000.0</td>\n",
       "      <td>366000.0</td>\n",
       "      <td>1431000.0</td>\n",
       "      <td>4000.000000</td>\n",
       "      <td>195880.000000</td>\n",
       "      <td>1235120</td>\n",
       "      <td>0.746154</td>\n",
       "    </tr>\n",
       "    <tr>\n",
       "      <th>12</th>\n",
       "      <td>136178</td>\n",
       "      <td>PG0252</td>\n",
       "      <td>SVO</td>\n",
       "      <td>Moscow</td>\n",
       "      <td>2017-01-29 10:10:00</td>\n",
       "      <td>2017-01-29 11:49:00</td>\n",
       "      <td>1.650000</td>\n",
       "      <td>Boeing 737-300</td>\n",
       "      <td>2400</td>\n",
       "      <td>118</td>\n",
       "      <td>12</td>\n",
       "      <td>130</td>\n",
       "      <td>90.0</td>\n",
       "      <td>9.0</td>\n",
       "      <td>99.0</td>\n",
       "      <td>1105200.0</td>\n",
       "      <td>329400.0</td>\n",
       "      <td>1434600.0</td>\n",
       "      <td>3960.000000</td>\n",
       "      <td>193921.200000</td>\n",
       "      <td>1240678</td>\n",
       "      <td>0.761538</td>\n",
       "    </tr>\n",
       "    <tr>\n",
       "      <th>21</th>\n",
       "      <td>136250</td>\n",
       "      <td>PG0252</td>\n",
       "      <td>SVO</td>\n",
       "      <td>Moscow</td>\n",
       "      <td>2017-02-08 10:06:00</td>\n",
       "      <td>2017-02-08 11:47:00</td>\n",
       "      <td>1.683333</td>\n",
       "      <td>Boeing 737-300</td>\n",
       "      <td>2400</td>\n",
       "      <td>118</td>\n",
       "      <td>12</td>\n",
       "      <td>130</td>\n",
       "      <td>91.0</td>\n",
       "      <td>8.0</td>\n",
       "      <td>99.0</td>\n",
       "      <td>1115000.0</td>\n",
       "      <td>292800.0</td>\n",
       "      <td>1407800.0</td>\n",
       "      <td>4040.000000</td>\n",
       "      <td>197838.800000</td>\n",
       "      <td>1209961</td>\n",
       "      <td>0.761538</td>\n",
       "    </tr>\n",
       "    <tr>\n",
       "      <th>38</th>\n",
       "      <td>136360</td>\n",
       "      <td>PG0252</td>\n",
       "      <td>SVO</td>\n",
       "      <td>Moscow</td>\n",
       "      <td>2017-02-05 10:08:00</td>\n",
       "      <td>2017-02-05 11:48:00</td>\n",
       "      <td>1.666667</td>\n",
       "      <td>Boeing 737-300</td>\n",
       "      <td>2400</td>\n",
       "      <td>118</td>\n",
       "      <td>12</td>\n",
       "      <td>130</td>\n",
       "      <td>86.0</td>\n",
       "      <td>11.0</td>\n",
       "      <td>97.0</td>\n",
       "      <td>1052800.0</td>\n",
       "      <td>402600.0</td>\n",
       "      <td>1455400.0</td>\n",
       "      <td>4000.000000</td>\n",
       "      <td>195880.000000</td>\n",
       "      <td>1259520</td>\n",
       "      <td>0.746154</td>\n",
       "    </tr>\n",
       "    <tr>\n",
       "      <th>54</th>\n",
       "      <td>136464</td>\n",
       "      <td>PG0252</td>\n",
       "      <td>SVO</td>\n",
       "      <td>Moscow</td>\n",
       "      <td>2017-01-09 10:07:00</td>\n",
       "      <td>2017-01-09 11:47:00</td>\n",
       "      <td>1.666667</td>\n",
       "      <td>Boeing 737-300</td>\n",
       "      <td>2400</td>\n",
       "      <td>118</td>\n",
       "      <td>12</td>\n",
       "      <td>130</td>\n",
       "      <td>93.0</td>\n",
       "      <td>7.0</td>\n",
       "      <td>100.0</td>\n",
       "      <td>1141800.0</td>\n",
       "      <td>256200.0</td>\n",
       "      <td>1398000.0</td>\n",
       "      <td>4000.000000</td>\n",
       "      <td>195880.000000</td>\n",
       "      <td>1202120</td>\n",
       "      <td>0.769231</td>\n",
       "    </tr>\n",
       "    <tr>\n",
       "      <th>68</th>\n",
       "      <td>136642</td>\n",
       "      <td>PG0480</td>\n",
       "      <td>EGO</td>\n",
       "      <td>Belgorod</td>\n",
       "      <td>2017-01-30 09:28:00</td>\n",
       "      <td>2017-01-30 10:17:00</td>\n",
       "      <td>0.816667</td>\n",
       "      <td>Sukhoi Superjet-100</td>\n",
       "      <td>1700</td>\n",
       "      <td>85</td>\n",
       "      <td>12</td>\n",
       "      <td>97</td>\n",
       "      <td>54.0</td>\n",
       "      <td>10.0</td>\n",
       "      <td>64.0</td>\n",
       "      <td>342000.0</td>\n",
       "      <td>189000.0</td>\n",
       "      <td>531000.0</td>\n",
       "      <td>1388.333333</td>\n",
       "      <td>67986.683333</td>\n",
       "      <td>463013</td>\n",
       "      <td>0.659794</td>\n",
       "    </tr>\n",
       "    <tr>\n",
       "      <th>93</th>\n",
       "      <td>136807</td>\n",
       "      <td>PG0480</td>\n",
       "      <td>EGO</td>\n",
       "      <td>Belgorod</td>\n",
       "      <td>2017-02-23 09:28:00</td>\n",
       "      <td>2017-02-23 10:18:00</td>\n",
       "      <td>0.833333</td>\n",
       "      <td>Sukhoi Superjet-100</td>\n",
       "      <td>1700</td>\n",
       "      <td>85</td>\n",
       "      <td>12</td>\n",
       "      <td>97</td>\n",
       "      <td>60.0</td>\n",
       "      <td>8.0</td>\n",
       "      <td>68.0</td>\n",
       "      <td>379800.0</td>\n",
       "      <td>151200.0</td>\n",
       "      <td>531000.0</td>\n",
       "      <td>1416.666667</td>\n",
       "      <td>69374.166667</td>\n",
       "      <td>461625</td>\n",
       "      <td>0.701031</td>\n",
       "    </tr>\n",
       "  </tbody>\n",
       "</table>\n",
       "</div>"
      ],
      "text/plain": [
       "    flight_id flight_no arrival_airport      city    actual_departure  \\\n",
       "2      136122    PG0252             SVO    Moscow 2017-01-08 10:08:00   \n",
       "12     136178    PG0252             SVO    Moscow 2017-01-29 10:10:00   \n",
       "21     136250    PG0252             SVO    Moscow 2017-02-08 10:06:00   \n",
       "38     136360    PG0252             SVO    Moscow 2017-02-05 10:08:00   \n",
       "54     136464    PG0252             SVO    Moscow 2017-01-09 10:07:00   \n",
       "68     136642    PG0480             EGO  Belgorod 2017-01-30 09:28:00   \n",
       "93     136807    PG0480             EGO  Belgorod 2017-02-23 09:28:00   \n",
       "\n",
       "        actual_arrival  flight_time                model  fuel_consum_kg_hr  \\\n",
       "2  2017-01-08 11:48:00     1.666667       Boeing 737-300               2400   \n",
       "12 2017-01-29 11:49:00     1.650000       Boeing 737-300               2400   \n",
       "21 2017-02-08 11:47:00     1.683333       Boeing 737-300               2400   \n",
       "38 2017-02-05 11:48:00     1.666667       Boeing 737-300               2400   \n",
       "54 2017-01-09 11:47:00     1.666667       Boeing 737-300               2400   \n",
       "68 2017-01-30 10:17:00     0.816667  Sukhoi Superjet-100               1700   \n",
       "93 2017-02-23 10:18:00     0.833333  Sukhoi Superjet-100               1700   \n",
       "\n",
       "    seat_economy  seat_bisiness  seat_total  sold_economy  sold_bisiness  \\\n",
       "2            118             12         130          87.0           10.0   \n",
       "12           118             12         130          90.0            9.0   \n",
       "21           118             12         130          91.0            8.0   \n",
       "38           118             12         130          86.0           11.0   \n",
       "54           118             12         130          93.0            7.0   \n",
       "68            85             12          97          54.0           10.0   \n",
       "93            85             12          97          60.0            8.0   \n",
       "\n",
       "    sold_total  amount_economy  amount_bisiness  amount_total   fuel_spent  \\\n",
       "2         97.0       1065000.0         366000.0     1431000.0  4000.000000   \n",
       "12        99.0       1105200.0         329400.0     1434600.0  3960.000000   \n",
       "21        99.0       1115000.0         292800.0     1407800.0  4040.000000   \n",
       "38        97.0       1052800.0         402600.0     1455400.0  4000.000000   \n",
       "54       100.0       1141800.0         256200.0     1398000.0  4000.000000   \n",
       "68        64.0        342000.0         189000.0      531000.0  1388.333333   \n",
       "93        68.0        379800.0         151200.0      531000.0  1416.666667   \n",
       "\n",
       "        fuel_cost   profit  seats_percent  \n",
       "2   195880.000000  1235120       0.746154  \n",
       "12  193921.200000  1240678       0.761538  \n",
       "21  197838.800000  1209961       0.761538  \n",
       "38  195880.000000  1259520       0.746154  \n",
       "54  195880.000000  1202120       0.769231  \n",
       "68   67986.683333   463013       0.659794  \n",
       "93   69374.166667   461625       0.701031  "
      ]
     },
     "execution_count": 60,
     "metadata": {},
     "output_type": "execute_result"
    }
   ],
   "source": [
    "df[df.flight_id.isin(flight_unprofit)]"
   ]
  },
  {
   "cell_type": "code",
   "execution_count": null,
   "metadata": {},
   "outputs": [],
   "source": []
  }
 ],
 "metadata": {
  "kernelspec": {
   "display_name": "Python 3",
   "language": "python",
   "name": "python3"
  },
  "language_info": {
   "codemirror_mode": {
    "name": "ipython",
    "version": 3
   },
   "file_extension": ".py",
   "mimetype": "text/x-python",
   "name": "python",
   "nbconvert_exporter": "python",
   "pygments_lexer": "ipython3",
   "version": "3.8.5"
  },
  "toc": {
   "base_numbering": 1,
   "nav_menu": {},
   "number_sections": false,
   "sideBar": true,
   "skip_h1_title": false,
   "title_cell": "Table of Contents",
   "title_sidebar": "Contents",
   "toc_cell": false,
   "toc_position": {},
   "toc_section_display": true,
   "toc_window_display": false
  },
  "varInspector": {
   "cols": {
    "lenName": 16,
    "lenType": 16,
    "lenVar": 40
   },
   "kernels_config": {
    "python": {
     "delete_cmd_postfix": "",
     "delete_cmd_prefix": "del ",
     "library": "var_list.py",
     "varRefreshCmd": "print(var_dic_list())"
    },
    "r": {
     "delete_cmd_postfix": ") ",
     "delete_cmd_prefix": "rm(",
     "library": "var_list.r",
     "varRefreshCmd": "cat(var_dic_list()) "
    }
   },
   "types_to_exclude": [
    "module",
    "function",
    "builtin_function_or_method",
    "instance",
    "_Feature"
   ],
   "window_display": false
  }
 },
 "nbformat": 4,
 "nbformat_minor": 4
}
